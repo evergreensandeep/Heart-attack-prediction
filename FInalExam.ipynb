{
 "cells": [
  {
   "cell_type": "code",
   "execution_count": 4,
   "metadata": {},
   "outputs": [
    {
     "name": "stdout",
     "output_type": "stream",
     "text": [
      "/Users/sandeepgautam/Desktop\n"
     ]
    }
   ],
   "source": [
    "import os\n",
    "cwd = os.getcwd()\n",
    "print(cwd)"
   ]
  },
  {
   "cell_type": "code",
   "execution_count": 5,
   "metadata": {},
   "outputs": [],
   "source": [
    "import pandas as pd\n",
    "import numpy as np\n"
   ]
  },
  {
   "cell_type": "code",
   "execution_count": 6,
   "metadata": {},
   "outputs": [],
   "source": [
    "df=pd.read_csv('/Users/sandeepgautam/Desktop/train (2).csv')\n",
    "df=df.replace('?',np.nan)\n",
    "df.head()\n",
    "df['Age']=pd.to_numeric(df['Age'])\n",
    "df['myocardial']=pd.to_numeric(df['myocardial'])\n",
    "df['Potassium']=pd.to_numeric(df['Potassium'])\n",
    "df['Sodium']=pd.to_numeric(df['Sodium'])\n",
    "df['AlAT']=pd.to_numeric(df['AlAT'])\n",
    "df['AsAT']=pd.to_numeric(df['AsAT'])\n",
    "df['WBC']=pd.to_numeric(df['WBC'])\n",
    "df['ESR']=pd.to_numeric(df['ESR'])\n",
    "df['Time']=pd.to_numeric(df['Time'])\n",
    "\n",
    "\n"
   ]
  },
  {
   "cell_type": "code",
   "execution_count": 7,
   "metadata": {},
   "outputs": [],
   "source": [
    "df.Age.replace(999,np.nan,inplace=True)"
   ]
  },
  {
   "cell_type": "markdown",
   "metadata": {},
   "source": [
    "### Solving null value problem of Age column with the help of Gender   Columns \n"
   ]
  },
  {
   "cell_type": "code",
   "execution_count": 8,
   "metadata": {},
   "outputs": [
    {
     "data": {
      "text/html": [
       "<div>\n",
       "<style scoped>\n",
       "    .dataframe tbody tr th:only-of-type {\n",
       "        vertical-align: middle;\n",
       "    }\n",
       "\n",
       "    .dataframe tbody tr th {\n",
       "        vertical-align: top;\n",
       "    }\n",
       "\n",
       "    .dataframe thead th {\n",
       "        text-align: right;\n",
       "    }\n",
       "</style>\n",
       "<table border=\"1\" class=\"dataframe\">\n",
       "  <thead>\n",
       "    <tr style=\"text-align: right;\">\n",
       "      <th></th>\n",
       "      <th>Age</th>\n",
       "      <th>myocardial</th>\n",
       "      <th>Potassium</th>\n",
       "      <th>Sodium</th>\n",
       "      <th>AlAT</th>\n",
       "      <th>AsAT</th>\n",
       "      <th>WBC</th>\n",
       "      <th>ESR</th>\n",
       "      <th>Time</th>\n",
       "      <th>Outcome</th>\n",
       "    </tr>\n",
       "    <tr>\n",
       "      <th>Gender</th>\n",
       "      <th></th>\n",
       "      <th></th>\n",
       "      <th></th>\n",
       "      <th></th>\n",
       "      <th></th>\n",
       "      <th></th>\n",
       "      <th></th>\n",
       "      <th></th>\n",
       "      <th></th>\n",
       "      <th></th>\n",
       "    </tr>\n",
       "  </thead>\n",
       "  <tbody>\n",
       "    <tr>\n",
       "      <th>Female</th>\n",
       "      <td>68.0</td>\n",
       "      <td>0.0</td>\n",
       "      <td>4.0</td>\n",
       "      <td>136.0</td>\n",
       "      <td>0.38</td>\n",
       "      <td>0.22</td>\n",
       "      <td>8.1</td>\n",
       "      <td>14.0</td>\n",
       "      <td>4.0</td>\n",
       "      <td>0</td>\n",
       "    </tr>\n",
       "    <tr>\n",
       "      <th>Male</th>\n",
       "      <td>59.0</td>\n",
       "      <td>0.0</td>\n",
       "      <td>4.2</td>\n",
       "      <td>136.0</td>\n",
       "      <td>0.38</td>\n",
       "      <td>0.22</td>\n",
       "      <td>8.1</td>\n",
       "      <td>8.0</td>\n",
       "      <td>4.0</td>\n",
       "      <td>0</td>\n",
       "    </tr>\n",
       "  </tbody>\n",
       "</table>\n",
       "</div>"
      ],
      "text/plain": [
       "         Age  myocardial  Potassium  Sodium  AlAT  AsAT  WBC   ESR  Time  \\\n",
       "Gender                                                                     \n",
       "Female  68.0         0.0        4.0   136.0  0.38  0.22  8.1  14.0   4.0   \n",
       "Male    59.0         0.0        4.2   136.0  0.38  0.22  8.1   8.0   4.0   \n",
       "\n",
       "        Outcome  \n",
       "Gender           \n",
       "Female        0  \n",
       "Male          0  "
      ]
     },
     "execution_count": 8,
     "metadata": {},
     "output_type": "execute_result"
    }
   ],
   "source": [
    "df.groupby('Gender').median()"
   ]
  },
  {
   "cell_type": "code",
   "execution_count": 9,
   "metadata": {},
   "outputs": [],
   "source": [
    "df['Age']=df.groupby(\"Gender\")['Age'].transform(lambda x: x.fillna(x.median()))"
   ]
  },
  {
   "cell_type": "code",
   "execution_count": null,
   "metadata": {},
   "outputs": [],
   "source": []
  },
  {
   "cell_type": "code",
   "execution_count": 10,
   "metadata": {},
   "outputs": [
    {
     "data": {
      "text/html": [
       "<div>\n",
       "<style scoped>\n",
       "    .dataframe tbody tr th:only-of-type {\n",
       "        vertical-align: middle;\n",
       "    }\n",
       "\n",
       "    .dataframe tbody tr th {\n",
       "        vertical-align: top;\n",
       "    }\n",
       "\n",
       "    .dataframe thead th {\n",
       "        text-align: right;\n",
       "    }\n",
       "</style>\n",
       "<table border=\"1\" class=\"dataframe\">\n",
       "  <thead>\n",
       "    <tr style=\"text-align: right;\">\n",
       "      <th></th>\n",
       "      <th>Age</th>\n",
       "      <th>Gender</th>\n",
       "      <th>myocardial</th>\n",
       "      <th>Exertional angina</th>\n",
       "      <th>FC</th>\n",
       "      <th>Heart Disease</th>\n",
       "      <th>Heredity</th>\n",
       "      <th>Hypertension</th>\n",
       "      <th>Symptomatic hypertension</th>\n",
       "      <th>Duration</th>\n",
       "      <th>...</th>\n",
       "      <th>Systolic_intensive_care</th>\n",
       "      <th>Diastolic_intensive_care</th>\n",
       "      <th>Potassium</th>\n",
       "      <th>Sodium</th>\n",
       "      <th>AlAT</th>\n",
       "      <th>AsAT</th>\n",
       "      <th>WBC</th>\n",
       "      <th>ESR</th>\n",
       "      <th>Time</th>\n",
       "      <th>Outcome</th>\n",
       "    </tr>\n",
       "  </thead>\n",
       "  <tbody>\n",
       "  </tbody>\n",
       "</table>\n",
       "<p>0 rows × 23 columns</p>\n",
       "</div>"
      ],
      "text/plain": [
       "Empty DataFrame\n",
       "Columns: [Age, Gender, myocardial, Exertional angina, FC, Heart Disease, Heredity, Hypertension, Symptomatic hypertension, Duration, Arrhythmia, Systolic_emergency, Diastolic_emergency, Systolic_intensive_care, Diastolic_intensive_care, Potassium, Sodium, AlAT, AsAT, WBC, ESR, Time, Outcome]\n",
       "Index: []\n",
       "\n",
       "[0 rows x 23 columns]"
      ]
     },
     "execution_count": 10,
     "metadata": {},
     "output_type": "execute_result"
    }
   ],
   "source": [
    "df[df.Age==999]"
   ]
  },
  {
   "cell_type": "markdown",
   "metadata": {},
   "source": [
    "*  To check how many rows have different number of nan. value in total columns\n"
   ]
  },
  {
   "cell_type": "code",
   "execution_count": 11,
   "metadata": {},
   "outputs": [
    {
     "name": "stdout",
     "output_type": "stream",
     "text": [
      "For columns0\n",
      "1267\n",
      "For columns1\n",
      "1051\n",
      "For columns2\n",
      "978\n",
      "For columns3\n",
      "604\n",
      "For columns4\n",
      "453\n",
      "For columns5\n",
      "236\n",
      "For columns6\n",
      "160\n",
      "For columns7\n",
      "74\n",
      "For columns8\n",
      "53\n",
      "For columns9\n",
      "23\n",
      "For columns10\n",
      "17\n",
      "For columns11\n",
      "4\n",
      "For columns12\n",
      "1\n",
      "For columns13\n",
      "1\n",
      "For columns14\n",
      "0\n",
      "For columns15\n",
      "0\n",
      "For columns16\n",
      "0\n",
      "For columns17\n",
      "0\n",
      "For columns18\n",
      "0\n",
      "For columns19\n",
      "0\n",
      "For columns20\n",
      "0\n",
      "For columns21\n",
      "0\n"
     ]
    }
   ],
   "source": [
    "\n",
    "for i in range(22):\n",
    "    print(\"For columns\"+str(i))\n",
    "    print(df[df.isnull().sum(axis=1) >i].shape[0])"
   ]
  },
  {
   "cell_type": "markdown",
   "metadata": {},
   "source": [
    "### We choose threshold of 6, so for those rows that have more than 6 null columns ,we remove the whole rows"
   ]
  },
  {
   "cell_type": "code",
   "execution_count": 12,
   "metadata": {},
   "outputs": [],
   "source": [
    "a=df[df.isnull().sum(axis=1) >6].index"
   ]
  },
  {
   "cell_type": "code",
   "execution_count": 13,
   "metadata": {},
   "outputs": [],
   "source": [
    "df=df.drop(df.index[a])\n"
   ]
  },
  {
   "cell_type": "code",
   "execution_count": 14,
   "metadata": {},
   "outputs": [
    {
     "data": {
      "text/plain": [
       "(1115, 23)"
      ]
     },
     "execution_count": 14,
     "metadata": {},
     "output_type": "execute_result"
    }
   ],
   "source": [
    "df.shape"
   ]
  },
  {
   "cell_type": "code",
   "execution_count": 15,
   "metadata": {},
   "outputs": [
    {
     "data": {
      "text/plain": [
       "3629"
      ]
     },
     "execution_count": 15,
     "metadata": {},
     "output_type": "execute_result"
    }
   ],
   "source": [
    "df.isnull().sum().sum()"
   ]
  },
  {
   "cell_type": "code",
   "execution_count": 16,
   "metadata": {},
   "outputs": [],
   "source": [
    "df=df.drop('Heredity',axis=1)\n",
    "df=df.drop('Systolic_emergency',axis=1)\n",
    "df=df.drop('Diastolic_emergency',axis=1)"
   ]
  },
  {
   "cell_type": "code",
   "execution_count": 17,
   "metadata": {},
   "outputs": [
    {
     "data": {
      "text/plain": [
       "1232"
      ]
     },
     "execution_count": 17,
     "metadata": {},
     "output_type": "execute_result"
    }
   ],
   "source": [
    "df.isnull().sum().sum()"
   ]
  },
  {
   "cell_type": "code",
   "execution_count": 18,
   "metadata": {},
   "outputs": [
    {
     "data": {
      "text/plain": [
       "Age                           0\n",
       "Gender                        0\n",
       "myocardial                    0\n",
       "Exertional angina            51\n",
       "FC                           30\n",
       "Heart Disease                25\n",
       "Hypertension                  0\n",
       "Symptomatic hypertension      0\n",
       "Duration                    155\n",
       "Arrhythmia                    4\n",
       "Systolic_intensive_care     143\n",
       "Diastolic_intensive_care    143\n",
       "Potassium                   158\n",
       "Sodium                      159\n",
       "AlAT                         99\n",
       "AsAT                        100\n",
       "WBC                          24\n",
       "ESR                          73\n",
       "Time                         68\n",
       "Outcome                       0\n",
       "dtype: int64"
      ]
     },
     "execution_count": 18,
     "metadata": {},
     "output_type": "execute_result"
    }
   ],
   "source": [
    "df.isnull().sum()"
   ]
  },
  {
   "cell_type": "code",
   "execution_count": 19,
   "metadata": {},
   "outputs": [],
   "source": [
    "df['myocardial']=pd.to_numeric(df['myocardial'])\n"
   ]
  },
  {
   "cell_type": "code",
   "execution_count": 20,
   "metadata": {},
   "outputs": [],
   "source": [
    "df['Age']=pd.to_numeric(df['Age'])\n"
   ]
  },
  {
   "cell_type": "code",
   "execution_count": 21,
   "metadata": {},
   "outputs": [
    {
     "data": {
      "text/html": [
       "<div>\n",
       "<style scoped>\n",
       "    .dataframe tbody tr th:only-of-type {\n",
       "        vertical-align: middle;\n",
       "    }\n",
       "\n",
       "    .dataframe tbody tr th {\n",
       "        vertical-align: top;\n",
       "    }\n",
       "\n",
       "    .dataframe thead th {\n",
       "        text-align: right;\n",
       "    }\n",
       "</style>\n",
       "<table border=\"1\" class=\"dataframe\">\n",
       "  <thead>\n",
       "    <tr style=\"text-align: right;\">\n",
       "      <th></th>\n",
       "      <th>Age</th>\n",
       "      <th>Gender</th>\n",
       "      <th>myocardial</th>\n",
       "      <th>Exertional angina</th>\n",
       "      <th>FC</th>\n",
       "      <th>Heart Disease</th>\n",
       "      <th>Hypertension</th>\n",
       "      <th>Symptomatic hypertension</th>\n",
       "      <th>Duration</th>\n",
       "      <th>Arrhythmia</th>\n",
       "      <th>Systolic_intensive_care</th>\n",
       "      <th>Diastolic_intensive_care</th>\n",
       "      <th>Potassium</th>\n",
       "      <th>Sodium</th>\n",
       "      <th>AlAT</th>\n",
       "      <th>AsAT</th>\n",
       "      <th>WBC</th>\n",
       "      <th>ESR</th>\n",
       "      <th>Time</th>\n",
       "      <th>Outcome</th>\n",
       "    </tr>\n",
       "  </thead>\n",
       "  <tbody>\n",
       "    <tr>\n",
       "      <th>0</th>\n",
       "      <td>75.0</td>\n",
       "      <td>0</td>\n",
       "      <td>0.0</td>\n",
       "      <td>Two years ago</td>\n",
       "      <td>II FC</td>\n",
       "      <td>Exertional angina</td>\n",
       "      <td>Stage 2</td>\n",
       "      <td>No</td>\n",
       "      <td>NaN</td>\n",
       "      <td>No</td>\n",
       "      <td>140</td>\n",
       "      <td>90</td>\n",
       "      <td>NaN</td>\n",
       "      <td>NaN</td>\n",
       "      <td>0.30</td>\n",
       "      <td>0.18</td>\n",
       "      <td>7.8</td>\n",
       "      <td>16.0</td>\n",
       "      <td>7.0</td>\n",
       "      <td>0</td>\n",
       "    </tr>\n",
       "    <tr>\n",
       "      <th>1</th>\n",
       "      <td>50.0</td>\n",
       "      <td>1</td>\n",
       "      <td>1.0</td>\n",
       "      <td>Two years ago</td>\n",
       "      <td>II FC</td>\n",
       "      <td>Unstable angina</td>\n",
       "      <td>Stage 2</td>\n",
       "      <td>No</td>\n",
       "      <td>One year</td>\n",
       "      <td>No</td>\n",
       "      <td>NaN</td>\n",
       "      <td>NaN</td>\n",
       "      <td>3.9</td>\n",
       "      <td>132.0</td>\n",
       "      <td>0.23</td>\n",
       "      <td>0.52</td>\n",
       "      <td>6.2</td>\n",
       "      <td>20.0</td>\n",
       "      <td>7.0</td>\n",
       "      <td>0</td>\n",
       "    </tr>\n",
       "    <tr>\n",
       "      <th>4</th>\n",
       "      <td>76.0</td>\n",
       "      <td>0</td>\n",
       "      <td>3.0</td>\n",
       "      <td>Never</td>\n",
       "      <td>No angina</td>\n",
       "      <td>Unstable angina</td>\n",
       "      <td>Stage 2</td>\n",
       "      <td>No</td>\n",
       "      <td>More than 10 years</td>\n",
       "      <td>No</td>\n",
       "      <td>110</td>\n",
       "      <td>70</td>\n",
       "      <td>NaN</td>\n",
       "      <td>NaN</td>\n",
       "      <td>0.15</td>\n",
       "      <td>0.26</td>\n",
       "      <td>4.0</td>\n",
       "      <td>5.0</td>\n",
       "      <td>7.0</td>\n",
       "      <td>0</td>\n",
       "    </tr>\n",
       "    <tr>\n",
       "      <th>5</th>\n",
       "      <td>54.0</td>\n",
       "      <td>1</td>\n",
       "      <td>0.0</td>\n",
       "      <td>Never</td>\n",
       "      <td>No angina</td>\n",
       "      <td>No angina</td>\n",
       "      <td>No</td>\n",
       "      <td>No</td>\n",
       "      <td>No hypertension</td>\n",
       "      <td>No</td>\n",
       "      <td>NaN</td>\n",
       "      <td>NaN</td>\n",
       "      <td>5.3</td>\n",
       "      <td>139.0</td>\n",
       "      <td>0.15</td>\n",
       "      <td>0.11</td>\n",
       "      <td>6.8</td>\n",
       "      <td>30.0</td>\n",
       "      <td>2.0</td>\n",
       "      <td>0</td>\n",
       "    </tr>\n",
       "    <tr>\n",
       "      <th>7</th>\n",
       "      <td>63.0</td>\n",
       "      <td>1</td>\n",
       "      <td>0.0</td>\n",
       "      <td>Never</td>\n",
       "      <td>No angina</td>\n",
       "      <td>No angina</td>\n",
       "      <td>No</td>\n",
       "      <td>No</td>\n",
       "      <td>No hypertension</td>\n",
       "      <td>No</td>\n",
       "      <td>110</td>\n",
       "      <td>70</td>\n",
       "      <td>4.4</td>\n",
       "      <td>141.0</td>\n",
       "      <td>1.96</td>\n",
       "      <td>0.86</td>\n",
       "      <td>7.7</td>\n",
       "      <td>3.0</td>\n",
       "      <td>8.0</td>\n",
       "      <td>0</td>\n",
       "    </tr>\n",
       "  </tbody>\n",
       "</table>\n",
       "</div>"
      ],
      "text/plain": [
       "    Age  Gender  myocardial Exertional angina         FC      Heart Disease  \\\n",
       "0  75.0       0         0.0     Two years ago      II FC  Exertional angina   \n",
       "1  50.0       1         1.0     Two years ago      II FC    Unstable angina   \n",
       "4  76.0       0         3.0             Never  No angina    Unstable angina   \n",
       "5  54.0       1         0.0             Never  No angina          No angina   \n",
       "7  63.0       1         0.0             Never  No angina          No angina   \n",
       "\n",
       "  Hypertension Symptomatic hypertension            Duration Arrhythmia  \\\n",
       "0      Stage 2                       No                 NaN         No   \n",
       "1      Stage 2                       No            One year         No   \n",
       "4      Stage 2                       No  More than 10 years         No   \n",
       "5           No                       No     No hypertension         No   \n",
       "7           No                       No     No hypertension         No   \n",
       "\n",
       "  Systolic_intensive_care Diastolic_intensive_care  Potassium  Sodium  AlAT  \\\n",
       "0                     140                       90        NaN     NaN  0.30   \n",
       "1                     NaN                      NaN        3.9   132.0  0.23   \n",
       "4                     110                       70        NaN     NaN  0.15   \n",
       "5                     NaN                      NaN        5.3   139.0  0.15   \n",
       "7                     110                       70        4.4   141.0  1.96   \n",
       "\n",
       "   AsAT  WBC   ESR  Time  Outcome  \n",
       "0  0.18  7.8  16.0   7.0        0  \n",
       "1  0.52  6.2  20.0   7.0        0  \n",
       "4  0.26  4.0   5.0   7.0        0  \n",
       "5  0.11  6.8  30.0   2.0        0  \n",
       "7  0.86  7.7   3.0   8.0        0  "
      ]
     },
     "execution_count": 21,
     "metadata": {},
     "output_type": "execute_result"
    }
   ],
   "source": [
    "df['Gender'].replace('Male',1,inplace=True)\n",
    "df['Gender'].replace('Female',0,inplace=True)\n",
    "df.head()\n"
   ]
  },
  {
   "cell_type": "code",
   "execution_count": 23,
   "metadata": {},
   "outputs": [
    {
     "data": {
      "image/png": "[encoded data removed]",
      "text/plain": [
       "<Figure size 432x288 with 2 Axes>"
      ]
     },
     "metadata": {
      "needs_background": "light"
     },
     "output_type": "display_data"
    }
   ],
   "source": [
    "import matplotlib.pyplot as plt\n",
    "import seaborn as sn\n",
    "correlation=df.select_dtypes(include='number')\n",
    "corrMatrix=correlation.corr()\n",
    "sn.heatmap(corrMatrix, annot=True)\n",
    "plt.show()\n",
    "\n"
   ]
  },
  {
   "cell_type": "markdown",
   "metadata": {},
   "source": [
    "### Solving null value problem of Age column with the help of Gender Columns \n"
   ]
  },
  {
   "cell_type": "code",
   "execution_count": 24,
   "metadata": {},
   "outputs": [],
   "source": [
    "# 1st null value \n",
    "df['Age']=df.groupby(\"Gender\")['Age'].transform(lambda x: x.fillna(x.median()))"
   ]
  },
  {
   "cell_type": "code",
   "execution_count": 25,
   "metadata": {},
   "outputs": [
    {
     "data": {
      "text/plain": [
       "No     1082\n",
       "Yes      29\n",
       "Name: Arrhythmia, dtype: int64"
      ]
     },
     "execution_count": 25,
     "metadata": {},
     "output_type": "execute_result"
    }
   ],
   "source": [
    "df.Arrhythmia.value_counts()"
   ]
  },
  {
   "cell_type": "code",
   "execution_count": 26,
   "metadata": {},
   "outputs": [],
   "source": [
    "# When Arrhythmia is yes, make it 1 or else o\n",
    "df['Arrhythmia']=np.where(df['Arrhythmia']=='Yes',1,0)"
   ]
  },
  {
   "cell_type": "code",
   "execution_count": 27,
   "metadata": {},
   "outputs": [],
   "source": [
    "import seaborn as sns\n",
    "sns.set_theme(style=\"whitegrid\")\n"
   ]
  },
  {
   "cell_type": "code",
   "execution_count": 28,
   "metadata": {},
   "outputs": [
    {
     "data": {
      "text/plain": [
       "<AxesSubplot:xlabel='Arrhythmia', ylabel='Age'>"
      ]
     },
     "execution_count": 28,
     "metadata": {},
     "output_type": "execute_result"
    },
    {
     "data": {
      "image/png": "[encoded data removed]",
      "text/plain": [
       "<Figure size 432x288 with 1 Axes>"
      ]
     },
     "metadata": {},
     "output_type": "display_data"
    }
   ],
   "source": [
    "sns.boxplot(x=\"Arrhythmia\", y=\"Age\", data=df)"
   ]
  },
  {
   "cell_type": "code",
   "execution_count": 29,
   "metadata": {},
   "outputs": [
    {
     "data": {
      "image/png": "[encoded data removed]",
      "text/plain": [
       "<Figure size 432x288 with 2 Axes>"
      ]
     },
     "metadata": {},
     "output_type": "display_data"
    }
   ],
   "source": [
    "import seaborn as sn\n",
    "correlation=df.select_dtypes(include='number')\n",
    "corrMatrix=correlation.corr()\n",
    "sn.heatmap(corrMatrix, annot=True)\n",
    "plt.show()"
   ]
  },
  {
   "cell_type": "markdown",
   "metadata": {},
   "source": [
    "### Solving null value problem of Arrhythmia column with the help of Gender and myocardial Columns \n"
   ]
  },
  {
   "cell_type": "code",
   "execution_count": 30,
   "metadata": {},
   "outputs": [],
   "source": [
    "df['Arrhythmia']=df.groupby(['Gender','myocardial'])['Arrhythmia'].transform(lambda x: x.fillna(x.mean()))\n",
    "\n"
   ]
  },
  {
   "cell_type": "code",
   "execution_count": 31,
   "metadata": {},
   "outputs": [
    {
     "data": {
      "text/html": [
       "<div>\n",
       "<style scoped>\n",
       "    .dataframe tbody tr th:only-of-type {\n",
       "        vertical-align: middle;\n",
       "    }\n",
       "\n",
       "    .dataframe tbody tr th {\n",
       "        vertical-align: top;\n",
       "    }\n",
       "\n",
       "    .dataframe thead th {\n",
       "        text-align: right;\n",
       "    }\n",
       "</style>\n",
       "<table border=\"1\" class=\"dataframe\">\n",
       "  <thead>\n",
       "    <tr style=\"text-align: right;\">\n",
       "      <th></th>\n",
       "      <th>Age</th>\n",
       "      <th>Gender</th>\n",
       "      <th>myocardial</th>\n",
       "      <th>Arrhythmia</th>\n",
       "      <th>Potassium</th>\n",
       "      <th>Sodium</th>\n",
       "      <th>AlAT</th>\n",
       "      <th>AsAT</th>\n",
       "      <th>WBC</th>\n",
       "      <th>ESR</th>\n",
       "      <th>Time</th>\n",
       "      <th>Outcome</th>\n",
       "    </tr>\n",
       "    <tr>\n",
       "      <th>Exertional angina</th>\n",
       "      <th></th>\n",
       "      <th></th>\n",
       "      <th></th>\n",
       "      <th></th>\n",
       "      <th></th>\n",
       "      <th></th>\n",
       "      <th></th>\n",
       "      <th></th>\n",
       "      <th></th>\n",
       "      <th></th>\n",
       "      <th></th>\n",
       "      <th></th>\n",
       "    </tr>\n",
       "  </thead>\n",
       "  <tbody>\n",
       "    <tr>\n",
       "      <th>During the last year</th>\n",
       "      <td>60.562500</td>\n",
       "      <td>0.635417</td>\n",
       "      <td>0.479167</td>\n",
       "      <td>0.010417</td>\n",
       "      <td>4.098718</td>\n",
       "      <td>135.884615</td>\n",
       "      <td>0.491071</td>\n",
       "      <td>0.251429</td>\n",
       "      <td>9.298925</td>\n",
       "      <td>12.459770</td>\n",
       "      <td>4.922222</td>\n",
       "      <td>0.135417</td>\n",
       "    </tr>\n",
       "    <tr>\n",
       "      <th>Four to five years ago</th>\n",
       "      <td>62.913580</td>\n",
       "      <td>0.604938</td>\n",
       "      <td>0.802469</td>\n",
       "      <td>0.061728</td>\n",
       "      <td>4.276812</td>\n",
       "      <td>136.811594</td>\n",
       "      <td>0.416184</td>\n",
       "      <td>0.240789</td>\n",
       "      <td>9.326582</td>\n",
       "      <td>16.013889</td>\n",
       "      <td>4.727273</td>\n",
       "      <td>0.197531</td>\n",
       "    </tr>\n",
       "    <tr>\n",
       "      <th>More than five years ago</th>\n",
       "      <td>65.857143</td>\n",
       "      <td>0.562500</td>\n",
       "      <td>0.986607</td>\n",
       "      <td>0.031250</td>\n",
       "      <td>4.192222</td>\n",
       "      <td>136.226519</td>\n",
       "      <td>0.435419</td>\n",
       "      <td>0.242857</td>\n",
       "      <td>8.635780</td>\n",
       "      <td>13.604762</td>\n",
       "      <td>4.728155</td>\n",
       "      <td>0.232143</td>\n",
       "    </tr>\n",
       "    <tr>\n",
       "      <th>Never</th>\n",
       "      <td>59.022075</td>\n",
       "      <td>0.684327</td>\n",
       "      <td>0.218543</td>\n",
       "      <td>0.006623</td>\n",
       "      <td>4.223134</td>\n",
       "      <td>136.783042</td>\n",
       "      <td>0.515181</td>\n",
       "      <td>0.282681</td>\n",
       "      <td>8.881655</td>\n",
       "      <td>12.793911</td>\n",
       "      <td>4.689977</td>\n",
       "      <td>0.094923</td>\n",
       "    </tr>\n",
       "    <tr>\n",
       "      <th>One year ago</th>\n",
       "      <td>62.897727</td>\n",
       "      <td>0.579545</td>\n",
       "      <td>0.829545</td>\n",
       "      <td>0.079545</td>\n",
       "      <td>4.164000</td>\n",
       "      <td>136.520000</td>\n",
       "      <td>0.438354</td>\n",
       "      <td>0.256329</td>\n",
       "      <td>8.608140</td>\n",
       "      <td>13.951220</td>\n",
       "      <td>4.567901</td>\n",
       "      <td>0.090909</td>\n",
       "    </tr>\n",
       "    <tr>\n",
       "      <th>Three years ago</th>\n",
       "      <td>61.586957</td>\n",
       "      <td>0.630435</td>\n",
       "      <td>0.695652</td>\n",
       "      <td>0.065217</td>\n",
       "      <td>4.205128</td>\n",
       "      <td>136.025641</td>\n",
       "      <td>0.425135</td>\n",
       "      <td>0.240811</td>\n",
       "      <td>7.865217</td>\n",
       "      <td>14.488889</td>\n",
       "      <td>4.857143</td>\n",
       "      <td>0.086957</td>\n",
       "    </tr>\n",
       "    <tr>\n",
       "      <th>Two years ago</th>\n",
       "      <td>61.210526</td>\n",
       "      <td>0.657895</td>\n",
       "      <td>0.657895</td>\n",
       "      <td>0.039474</td>\n",
       "      <td>4.191045</td>\n",
       "      <td>136.447761</td>\n",
       "      <td>0.474583</td>\n",
       "      <td>0.263611</td>\n",
       "      <td>9.201389</td>\n",
       "      <td>12.956522</td>\n",
       "      <td>3.875000</td>\n",
       "      <td>0.223684</td>\n",
       "    </tr>\n",
       "  </tbody>\n",
       "</table>\n",
       "</div>"
      ],
      "text/plain": [
       "                                Age    Gender  myocardial  Arrhythmia  \\\n",
       "Exertional angina                                                       \n",
       "During the last year      60.562500  0.635417    0.479167    0.010417   \n",
       "Four to five years ago    62.913580  0.604938    0.802469    0.061728   \n",
       "More than five years ago  65.857143  0.562500    0.986607    0.031250   \n",
       "Never                     59.022075  0.684327    0.218543    0.006623   \n",
       "One year ago              62.897727  0.579545    0.829545    0.079545   \n",
       "Three years ago           61.586957  0.630435    0.695652    0.065217   \n",
       "Two years ago             61.210526  0.657895    0.657895    0.039474   \n",
       "\n",
       "                          Potassium      Sodium      AlAT      AsAT       WBC  \\\n",
       "Exertional angina                                                               \n",
       "During the last year       4.098718  135.884615  0.491071  0.251429  9.298925   \n",
       "Four to five years ago     4.276812  136.811594  0.416184  0.240789  9.326582   \n",
       "More than five years ago   4.192222  136.226519  0.435419  0.242857  8.635780   \n",
       "Never                      4.223134  136.783042  0.515181  0.282681  8.881655   \n",
       "One year ago               4.164000  136.520000  0.438354  0.256329  8.608140   \n",
       "Three years ago            4.205128  136.025641  0.425135  0.240811  7.865217   \n",
       "Two years ago              4.191045  136.447761  0.474583  0.263611  9.201389   \n",
       "\n",
       "                                ESR      Time   Outcome  \n",
       "Exertional angina                                        \n",
       "During the last year      12.459770  4.922222  0.135417  \n",
       "Four to five years ago    16.013889  4.727273  0.197531  \n",
       "More than five years ago  13.604762  4.728155  0.232143  \n",
       "Never                     12.793911  4.689977  0.094923  \n",
       "One year ago              13.951220  4.567901  0.090909  \n",
       "Three years ago           14.488889  4.857143  0.086957  \n",
       "Two years ago             12.956522  3.875000  0.223684  "
      ]
     },
     "execution_count": 31,
     "metadata": {},
     "output_type": "execute_result"
    }
   ],
   "source": [
    "df.groupby(['Exertional angina']).mean()"
   ]
  },
  {
   "cell_type": "markdown",
   "metadata": {},
   "source": [
    "### Changing Exertional angina columns into ordinal data where Never=6 and One year ago=1(Other values are in between)"
   ]
  },
  {
   "cell_type": "code",
   "execution_count": 32,
   "metadata": {},
   "outputs": [],
   "source": [
    "df['Exertional angina'].replace('During the last year',0,inplace=True)\n",
    "df['Exertional angina'].replace('One year ago',1,inplace=True)\n",
    "df['Exertional angina'].replace('Two years ago',2,inplace=True)\n",
    "df['Exertional angina'].replace('Three years ago',3,inplace=True)\n",
    "df['Exertional angina'].replace('Four to five years ago',4,inplace=True)\n",
    "df['Exertional angina'].replace('More than five years ago',5,inplace=True)\n",
    "df['Exertional angina'].replace('More than five years ago',5,inplace=True)\n",
    "df['Exertional angina'].replace('Never',6,inplace=True)\n",
    "\n",
    "\n"
   ]
  },
  {
   "cell_type": "code",
   "execution_count": 33,
   "metadata": {},
   "outputs": [
    {
     "data": {
      "image/png": "[encoded data removed]",
      "text/plain": [
       "<Figure size 432x288 with 2 Axes>"
      ]
     },
     "metadata": {},
     "output_type": "display_data"
    }
   ],
   "source": [
    "import seaborn as sn\n",
    "correlation=df.select_dtypes(include='number')\n",
    "corrMatrix=correlation.corr()\n",
    "sn.heatmap(corrMatrix, annot=True)\n",
    "plt.show()"
   ]
  },
  {
   "cell_type": "code",
   "execution_count": 34,
   "metadata": {},
   "outputs": [
    {
     "data": {
      "text/plain": [
       "<AxesSubplot:xlabel='myocardial', ylabel='Exertional angina'>"
      ]
     },
     "execution_count": 34,
     "metadata": {},
     "output_type": "execute_result"
    },
    {
     "data": {
      "image/png": "[encoded data removed]",
      "text/plain": [
       "<Figure size 432x288 with 1 Axes>"
      ]
     },
     "metadata": {},
     "output_type": "display_data"
    }
   ],
   "source": [
    "sns.boxplot(y=\"Exertional angina\", x=\"myocardial\", data=df)"
   ]
  },
  {
   "cell_type": "markdown",
   "metadata": {},
   "source": [
    "### Solving null value problem of Exertional angina column with the help of myocardial  Column\n"
   ]
  },
  {
   "cell_type": "code",
   "execution_count": 35,
   "metadata": {},
   "outputs": [],
   "source": [
    "# The median value of each group of myocardial will be used to put the values in Exertional angina's null value\n",
    "df['Exertional angina']=df.groupby(['myocardial'])['Exertional angina'].transform(lambda x: x.fillna(x.median()))\n"
   ]
  },
  {
   "cell_type": "code",
   "execution_count": 36,
   "metadata": {},
   "outputs": [
    {
     "data": {
      "text/plain": [
       "7.0    342\n",
       "6.0    291\n",
       "5.0    118\n",
       "0.0     61\n",
       "4.0     52\n",
       "2.0     42\n",
       "1.0     38\n",
       "3.0     16\n",
       "Name: Duration, dtype: int64"
      ]
     },
     "execution_count": 36,
     "metadata": {},
     "output_type": "execute_result"
    }
   ],
   "source": [
    "df['Duration'].replace('One year',0,inplace=True)\n",
    "df['Duration'].replace('Two years',1,inplace=True)\n",
    "df['Duration'].replace('Three years',2,inplace=True)\n",
    "df['Duration'].replace('Four years',3,inplace=True)\n",
    "df['Duration'].replace('Five years',4,inplace=True)\n",
    "df['Duration'].replace('Six to ten years',5,inplace=True)\n",
    "df['Duration'].replace('More than 10 years',6,inplace=True)\n",
    "df['Duration'].replace('No hypertension',7,inplace=True)\n",
    "\n",
    "df.Duration.value_counts()"
   ]
  },
  {
   "cell_type": "code",
   "execution_count": 37,
   "metadata": {},
   "outputs": [
    {
     "data": {
      "text/plain": [
       "<AxesSubplot:xlabel='Hypertension', ylabel='Duration'>"
      ]
     },
     "execution_count": 37,
     "metadata": {},
     "output_type": "execute_result"
    },
    {
     "data": {
      "image/png": "[encoded data removed]",
      "text/plain": [
       "<Figure size 432x288 with 1 Axes>"
      ]
     },
     "metadata": {},
     "output_type": "display_data"
    }
   ],
   "source": [
    "sns.boxplot(y=\"Duration\", x=\"Hypertension\", data=df)"
   ]
  },
  {
   "cell_type": "markdown",
   "metadata": {},
   "source": [
    "* Because there seems to be relationship between Duration and Hupertensiom, we will use Hypertension to generate values for null values"
   ]
  },
  {
   "cell_type": "code",
   "execution_count": 38,
   "metadata": {},
   "outputs": [
    {
     "data": {
      "image/png": "[encoded data removed]",
      "text/plain": [
       "<Figure size 432x288 with 2 Axes>"
      ]
     },
     "metadata": {},
     "output_type": "display_data"
    }
   ],
   "source": [
    "import seaborn as sn\n",
    "correlation=df.select_dtypes(include='number')\n",
    "corrMatrix=correlation.corr()\n",
    "sn.heatmap(corrMatrix, annot=True)\n",
    "plt.show()"
   ]
  },
  {
   "cell_type": "markdown",
   "metadata": {},
   "source": [
    "### Solving null value problem of Duration column with the help of Hypertension  Columns \n"
   ]
  },
  {
   "cell_type": "code",
   "execution_count": 39,
   "metadata": {},
   "outputs": [],
   "source": [
    "\n",
    "# null convert\n",
    "df['Duration']=df.groupby(['Hypertension'])['Duration'].transform(lambda x: x.fillna(x.median()))\n"
   ]
  },
  {
   "cell_type": "code",
   "execution_count": 40,
   "metadata": {},
   "outputs": [],
   "source": [
    "df['Systolic_intensive_care']=pd.to_numeric(df['Systolic_intensive_care'])"
   ]
  },
  {
   "cell_type": "code",
   "execution_count": 41,
   "metadata": {},
   "outputs": [],
   "source": [
    "df['Diastolic_intensive_care']=pd.to_numeric(df['Diastolic_intensive_care'])"
   ]
  },
  {
   "cell_type": "code",
   "execution_count": 42,
   "metadata": {},
   "outputs": [
    {
     "data": {
      "text/html": [
       "<div>\n",
       "<style scoped>\n",
       "    .dataframe tbody tr th:only-of-type {\n",
       "        vertical-align: middle;\n",
       "    }\n",
       "\n",
       "    .dataframe tbody tr th {\n",
       "        vertical-align: top;\n",
       "    }\n",
       "\n",
       "    .dataframe thead th {\n",
       "        text-align: right;\n",
       "    }\n",
       "</style>\n",
       "<table border=\"1\" class=\"dataframe\">\n",
       "  <thead>\n",
       "    <tr style=\"text-align: right;\">\n",
       "      <th></th>\n",
       "      <th>Age</th>\n",
       "      <th>Gender</th>\n",
       "      <th>myocardial</th>\n",
       "      <th>Exertional angina</th>\n",
       "      <th>FC</th>\n",
       "      <th>Heart Disease</th>\n",
       "      <th>Hypertension</th>\n",
       "      <th>Symptomatic hypertension</th>\n",
       "      <th>Duration</th>\n",
       "      <th>Arrhythmia</th>\n",
       "      <th>Systolic_intensive_care</th>\n",
       "      <th>Diastolic_intensive_care</th>\n",
       "      <th>Potassium</th>\n",
       "      <th>Sodium</th>\n",
       "      <th>AlAT</th>\n",
       "      <th>AsAT</th>\n",
       "      <th>WBC</th>\n",
       "      <th>ESR</th>\n",
       "      <th>Time</th>\n",
       "      <th>Outcome</th>\n",
       "    </tr>\n",
       "  </thead>\n",
       "  <tbody>\n",
       "    <tr>\n",
       "      <th>1</th>\n",
       "      <td>50.0</td>\n",
       "      <td>1</td>\n",
       "      <td>1.0</td>\n",
       "      <td>2.0</td>\n",
       "      <td>II FC</td>\n",
       "      <td>Unstable angina</td>\n",
       "      <td>Stage 2</td>\n",
       "      <td>No</td>\n",
       "      <td>0.0</td>\n",
       "      <td>0</td>\n",
       "      <td>NaN</td>\n",
       "      <td>NaN</td>\n",
       "      <td>3.9</td>\n",
       "      <td>132.0</td>\n",
       "      <td>0.23</td>\n",
       "      <td>0.52</td>\n",
       "      <td>6.2</td>\n",
       "      <td>20.0</td>\n",
       "      <td>7.0</td>\n",
       "      <td>0</td>\n",
       "    </tr>\n",
       "    <tr>\n",
       "      <th>5</th>\n",
       "      <td>54.0</td>\n",
       "      <td>1</td>\n",
       "      <td>0.0</td>\n",
       "      <td>6.0</td>\n",
       "      <td>No angina</td>\n",
       "      <td>No angina</td>\n",
       "      <td>No</td>\n",
       "      <td>No</td>\n",
       "      <td>7.0</td>\n",
       "      <td>0</td>\n",
       "      <td>NaN</td>\n",
       "      <td>NaN</td>\n",
       "      <td>5.3</td>\n",
       "      <td>139.0</td>\n",
       "      <td>0.15</td>\n",
       "      <td>0.11</td>\n",
       "      <td>6.8</td>\n",
       "      <td>30.0</td>\n",
       "      <td>2.0</td>\n",
       "      <td>0</td>\n",
       "    </tr>\n",
       "    <tr>\n",
       "      <th>11</th>\n",
       "      <td>49.0</td>\n",
       "      <td>1</td>\n",
       "      <td>1.0</td>\n",
       "      <td>3.0</td>\n",
       "      <td>II FC</td>\n",
       "      <td>Unstable angina</td>\n",
       "      <td>Stage 2</td>\n",
       "      <td>No</td>\n",
       "      <td>5.0</td>\n",
       "      <td>0</td>\n",
       "      <td>NaN</td>\n",
       "      <td>NaN</td>\n",
       "      <td>4.4</td>\n",
       "      <td>139.0</td>\n",
       "      <td>0.61</td>\n",
       "      <td>0.30</td>\n",
       "      <td>5.1</td>\n",
       "      <td>20.0</td>\n",
       "      <td>9.0</td>\n",
       "      <td>0</td>\n",
       "    </tr>\n",
       "    <tr>\n",
       "      <th>26</th>\n",
       "      <td>69.0</td>\n",
       "      <td>1</td>\n",
       "      <td>2.0</td>\n",
       "      <td>1.0</td>\n",
       "      <td>II FC</td>\n",
       "      <td>Unstable angina</td>\n",
       "      <td>Stage 2</td>\n",
       "      <td>No</td>\n",
       "      <td>0.0</td>\n",
       "      <td>0</td>\n",
       "      <td>NaN</td>\n",
       "      <td>NaN</td>\n",
       "      <td>4.5</td>\n",
       "      <td>141.0</td>\n",
       "      <td>0.61</td>\n",
       "      <td>0.41</td>\n",
       "      <td>7.5</td>\n",
       "      <td>48.0</td>\n",
       "      <td>9.0</td>\n",
       "      <td>0</td>\n",
       "    </tr>\n",
       "    <tr>\n",
       "      <th>56</th>\n",
       "      <td>65.0</td>\n",
       "      <td>1</td>\n",
       "      <td>2.0</td>\n",
       "      <td>0.0</td>\n",
       "      <td>II FC</td>\n",
       "      <td>Unstable angina</td>\n",
       "      <td>No</td>\n",
       "      <td>No</td>\n",
       "      <td>7.0</td>\n",
       "      <td>0</td>\n",
       "      <td>NaN</td>\n",
       "      <td>NaN</td>\n",
       "      <td>3.5</td>\n",
       "      <td>127.0</td>\n",
       "      <td>0.15</td>\n",
       "      <td>0.22</td>\n",
       "      <td>12.3</td>\n",
       "      <td>5.0</td>\n",
       "      <td>NaN</td>\n",
       "      <td>0</td>\n",
       "    </tr>\n",
       "    <tr>\n",
       "      <th>72</th>\n",
       "      <td>72.0</td>\n",
       "      <td>0</td>\n",
       "      <td>2.0</td>\n",
       "      <td>3.0</td>\n",
       "      <td>II FC</td>\n",
       "      <td>Exertional angina</td>\n",
       "      <td>Stage 2</td>\n",
       "      <td>No</td>\n",
       "      <td>2.0</td>\n",
       "      <td>0</td>\n",
       "      <td>NaN</td>\n",
       "      <td>NaN</td>\n",
       "      <td>3.6</td>\n",
       "      <td>130.0</td>\n",
       "      <td>1.20</td>\n",
       "      <td>0.15</td>\n",
       "      <td>4.8</td>\n",
       "      <td>NaN</td>\n",
       "      <td>3.0</td>\n",
       "      <td>0</td>\n",
       "    </tr>\n",
       "    <tr>\n",
       "      <th>76</th>\n",
       "      <td>74.0</td>\n",
       "      <td>0</td>\n",
       "      <td>0.0</td>\n",
       "      <td>5.0</td>\n",
       "      <td>II FC</td>\n",
       "      <td>Unstable angina</td>\n",
       "      <td>Stage 2</td>\n",
       "      <td>No</td>\n",
       "      <td>6.0</td>\n",
       "      <td>0</td>\n",
       "      <td>NaN</td>\n",
       "      <td>NaN</td>\n",
       "      <td>NaN</td>\n",
       "      <td>NaN</td>\n",
       "      <td>0.15</td>\n",
       "      <td>0.30</td>\n",
       "      <td>5.6</td>\n",
       "      <td>45.0</td>\n",
       "      <td>9.0</td>\n",
       "      <td>0</td>\n",
       "    </tr>\n",
       "    <tr>\n",
       "      <th>101</th>\n",
       "      <td>63.0</td>\n",
       "      <td>0</td>\n",
       "      <td>0.0</td>\n",
       "      <td>6.0</td>\n",
       "      <td>No angina</td>\n",
       "      <td>Unstable angina</td>\n",
       "      <td>Stage 2</td>\n",
       "      <td>No</td>\n",
       "      <td>2.0</td>\n",
       "      <td>0</td>\n",
       "      <td>NaN</td>\n",
       "      <td>NaN</td>\n",
       "      <td>4.6</td>\n",
       "      <td>140.0</td>\n",
       "      <td>0.30</td>\n",
       "      <td>0.15</td>\n",
       "      <td>8.8</td>\n",
       "      <td>4.0</td>\n",
       "      <td>3.0</td>\n",
       "      <td>0</td>\n",
       "    </tr>\n",
       "    <tr>\n",
       "      <th>102</th>\n",
       "      <td>62.0</td>\n",
       "      <td>1</td>\n",
       "      <td>0.0</td>\n",
       "      <td>6.0</td>\n",
       "      <td>No angina</td>\n",
       "      <td>No angina</td>\n",
       "      <td>Stage 2</td>\n",
       "      <td>No</td>\n",
       "      <td>5.0</td>\n",
       "      <td>0</td>\n",
       "      <td>NaN</td>\n",
       "      <td>NaN</td>\n",
       "      <td>3.1</td>\n",
       "      <td>132.0</td>\n",
       "      <td>0.23</td>\n",
       "      <td>0.15</td>\n",
       "      <td>13.1</td>\n",
       "      <td>4.0</td>\n",
       "      <td>7.0</td>\n",
       "      <td>0</td>\n",
       "    </tr>\n",
       "    <tr>\n",
       "      <th>109</th>\n",
       "      <td>71.0</td>\n",
       "      <td>0</td>\n",
       "      <td>2.0</td>\n",
       "      <td>2.0</td>\n",
       "      <td>II FC</td>\n",
       "      <td>Exertional angina</td>\n",
       "      <td>Stage 2</td>\n",
       "      <td>No</td>\n",
       "      <td>1.0</td>\n",
       "      <td>0</td>\n",
       "      <td>NaN</td>\n",
       "      <td>NaN</td>\n",
       "      <td>3.7</td>\n",
       "      <td>132.0</td>\n",
       "      <td>0.30</td>\n",
       "      <td>0.37</td>\n",
       "      <td>11.5</td>\n",
       "      <td>13.0</td>\n",
       "      <td>3.0</td>\n",
       "      <td>0</td>\n",
       "    </tr>\n",
       "    <tr>\n",
       "      <th>154</th>\n",
       "      <td>73.0</td>\n",
       "      <td>0</td>\n",
       "      <td>1.0</td>\n",
       "      <td>6.0</td>\n",
       "      <td>No angina</td>\n",
       "      <td>Unstable angina</td>\n",
       "      <td>Stage 2</td>\n",
       "      <td>No</td>\n",
       "      <td>4.0</td>\n",
       "      <td>0</td>\n",
       "      <td>NaN</td>\n",
       "      <td>NaN</td>\n",
       "      <td>4.0</td>\n",
       "      <td>134.0</td>\n",
       "      <td>0.15</td>\n",
       "      <td>0.07</td>\n",
       "      <td>7.7</td>\n",
       "      <td>20.0</td>\n",
       "      <td>2.0</td>\n",
       "      <td>0</td>\n",
       "    </tr>\n",
       "    <tr>\n",
       "      <th>191</th>\n",
       "      <td>50.0</td>\n",
       "      <td>1</td>\n",
       "      <td>0.0</td>\n",
       "      <td>4.0</td>\n",
       "      <td>I FC</td>\n",
       "      <td>Exertional angina</td>\n",
       "      <td>Stage 3</td>\n",
       "      <td>No</td>\n",
       "      <td>5.0</td>\n",
       "      <td>0</td>\n",
       "      <td>NaN</td>\n",
       "      <td>NaN</td>\n",
       "      <td>4.4</td>\n",
       "      <td>140.0</td>\n",
       "      <td>0.68</td>\n",
       "      <td>0.18</td>\n",
       "      <td>NaN</td>\n",
       "      <td>NaN</td>\n",
       "      <td>9.0</td>\n",
       "      <td>0</td>\n",
       "    </tr>\n",
       "    <tr>\n",
       "      <th>226</th>\n",
       "      <td>63.0</td>\n",
       "      <td>0</td>\n",
       "      <td>2.0</td>\n",
       "      <td>2.0</td>\n",
       "      <td>II FC</td>\n",
       "      <td>Exertional angina</td>\n",
       "      <td>Stage 2</td>\n",
       "      <td>No</td>\n",
       "      <td>6.0</td>\n",
       "      <td>0</td>\n",
       "      <td>NaN</td>\n",
       "      <td>NaN</td>\n",
       "      <td>3.7</td>\n",
       "      <td>139.0</td>\n",
       "      <td>0.75</td>\n",
       "      <td>0.18</td>\n",
       "      <td>6.6</td>\n",
       "      <td>7.0</td>\n",
       "      <td>1.0</td>\n",
       "      <td>0</td>\n",
       "    </tr>\n",
       "    <tr>\n",
       "      <th>237</th>\n",
       "      <td>49.0</td>\n",
       "      <td>1</td>\n",
       "      <td>0.0</td>\n",
       "      <td>6.0</td>\n",
       "      <td>No angina</td>\n",
       "      <td>No angina</td>\n",
       "      <td>Stage 2</td>\n",
       "      <td>No</td>\n",
       "      <td>0.0</td>\n",
       "      <td>0</td>\n",
       "      <td>NaN</td>\n",
       "      <td>NaN</td>\n",
       "      <td>4.4</td>\n",
       "      <td>145.0</td>\n",
       "      <td>0.38</td>\n",
       "      <td>0.07</td>\n",
       "      <td>6.3</td>\n",
       "      <td>6.0</td>\n",
       "      <td>9.0</td>\n",
       "      <td>0</td>\n",
       "    </tr>\n",
       "    <tr>\n",
       "      <th>240</th>\n",
       "      <td>65.0</td>\n",
       "      <td>0</td>\n",
       "      <td>0.0</td>\n",
       "      <td>6.0</td>\n",
       "      <td>No angina</td>\n",
       "      <td>Unstable angina</td>\n",
       "      <td>Stage 2</td>\n",
       "      <td>No</td>\n",
       "      <td>5.0</td>\n",
       "      <td>0</td>\n",
       "      <td>NaN</td>\n",
       "      <td>NaN</td>\n",
       "      <td>4.1</td>\n",
       "      <td>140.0</td>\n",
       "      <td>0.30</td>\n",
       "      <td>0.15</td>\n",
       "      <td>4.7</td>\n",
       "      <td>11.0</td>\n",
       "      <td>2.0</td>\n",
       "      <td>0</td>\n",
       "    </tr>\n",
       "    <tr>\n",
       "      <th>241</th>\n",
       "      <td>57.0</td>\n",
       "      <td>1</td>\n",
       "      <td>0.0</td>\n",
       "      <td>6.0</td>\n",
       "      <td>No angina</td>\n",
       "      <td>No angina</td>\n",
       "      <td>No</td>\n",
       "      <td>No</td>\n",
       "      <td>7.0</td>\n",
       "      <td>0</td>\n",
       "      <td>NaN</td>\n",
       "      <td>NaN</td>\n",
       "      <td>3.4</td>\n",
       "      <td>140.0</td>\n",
       "      <td>0.38</td>\n",
       "      <td>0.22</td>\n",
       "      <td>7.6</td>\n",
       "      <td>4.0</td>\n",
       "      <td>1.0</td>\n",
       "      <td>0</td>\n",
       "    </tr>\n",
       "    <tr>\n",
       "      <th>248</th>\n",
       "      <td>59.0</td>\n",
       "      <td>1</td>\n",
       "      <td>0.0</td>\n",
       "      <td>2.0</td>\n",
       "      <td>II FC</td>\n",
       "      <td>Unstable angina</td>\n",
       "      <td>Stage 2</td>\n",
       "      <td>No</td>\n",
       "      <td>6.0</td>\n",
       "      <td>0</td>\n",
       "      <td>NaN</td>\n",
       "      <td>NaN</td>\n",
       "      <td>4.7</td>\n",
       "      <td>142.0</td>\n",
       "      <td>0.30</td>\n",
       "      <td>0.07</td>\n",
       "      <td>10.3</td>\n",
       "      <td>17.0</td>\n",
       "      <td>6.0</td>\n",
       "      <td>0</td>\n",
       "    </tr>\n",
       "    <tr>\n",
       "      <th>270</th>\n",
       "      <td>67.0</td>\n",
       "      <td>1</td>\n",
       "      <td>1.0</td>\n",
       "      <td>5.0</td>\n",
       "      <td>II FC</td>\n",
       "      <td>Exertional angina</td>\n",
       "      <td>No</td>\n",
       "      <td>No</td>\n",
       "      <td>7.0</td>\n",
       "      <td>0</td>\n",
       "      <td>NaN</td>\n",
       "      <td>NaN</td>\n",
       "      <td>3.5</td>\n",
       "      <td>129.0</td>\n",
       "      <td>0.38</td>\n",
       "      <td>0.18</td>\n",
       "      <td>10.4</td>\n",
       "      <td>20.0</td>\n",
       "      <td>3.0</td>\n",
       "      <td>0</td>\n",
       "    </tr>\n",
       "    <tr>\n",
       "      <th>277</th>\n",
       "      <td>46.0</td>\n",
       "      <td>0</td>\n",
       "      <td>0.0</td>\n",
       "      <td>6.0</td>\n",
       "      <td>No angina</td>\n",
       "      <td>Unstable angina</td>\n",
       "      <td>No</td>\n",
       "      <td>Yes</td>\n",
       "      <td>6.0</td>\n",
       "      <td>0</td>\n",
       "      <td>NaN</td>\n",
       "      <td>NaN</td>\n",
       "      <td>5.5</td>\n",
       "      <td>140.0</td>\n",
       "      <td>1.20</td>\n",
       "      <td>0.56</td>\n",
       "      <td>11.7</td>\n",
       "      <td>36.0</td>\n",
       "      <td>6.0</td>\n",
       "      <td>0</td>\n",
       "    </tr>\n",
       "    <tr>\n",
       "      <th>295</th>\n",
       "      <td>59.0</td>\n",
       "      <td>1</td>\n",
       "      <td>0.0</td>\n",
       "      <td>2.0</td>\n",
       "      <td>II FC</td>\n",
       "      <td>Unstable angina</td>\n",
       "      <td>No</td>\n",
       "      <td>No</td>\n",
       "      <td>7.0</td>\n",
       "      <td>0</td>\n",
       "      <td>NaN</td>\n",
       "      <td>NaN</td>\n",
       "      <td>3.9</td>\n",
       "      <td>131.0</td>\n",
       "      <td>0.45</td>\n",
       "      <td>0.30</td>\n",
       "      <td>12.7</td>\n",
       "      <td>9.0</td>\n",
       "      <td>3.0</td>\n",
       "      <td>0</td>\n",
       "    </tr>\n",
       "    <tr>\n",
       "      <th>297</th>\n",
       "      <td>57.0</td>\n",
       "      <td>1</td>\n",
       "      <td>0.0</td>\n",
       "      <td>5.0</td>\n",
       "      <td>II FC</td>\n",
       "      <td>Unstable angina</td>\n",
       "      <td>Stage 2</td>\n",
       "      <td>No</td>\n",
       "      <td>6.0</td>\n",
       "      <td>0</td>\n",
       "      <td>NaN</td>\n",
       "      <td>NaN</td>\n",
       "      <td>4.7</td>\n",
       "      <td>139.0</td>\n",
       "      <td>0.15</td>\n",
       "      <td>0.11</td>\n",
       "      <td>7.0</td>\n",
       "      <td>10.0</td>\n",
       "      <td>9.0</td>\n",
       "      <td>0</td>\n",
       "    </tr>\n",
       "    <tr>\n",
       "      <th>299</th>\n",
       "      <td>73.0</td>\n",
       "      <td>0</td>\n",
       "      <td>0.0</td>\n",
       "      <td>6.0</td>\n",
       "      <td>No angina</td>\n",
       "      <td>Unstable angina</td>\n",
       "      <td>No</td>\n",
       "      <td>Yes</td>\n",
       "      <td>5.0</td>\n",
       "      <td>0</td>\n",
       "      <td>NaN</td>\n",
       "      <td>NaN</td>\n",
       "      <td>4.9</td>\n",
       "      <td>140.0</td>\n",
       "      <td>0.61</td>\n",
       "      <td>0.15</td>\n",
       "      <td>8.2</td>\n",
       "      <td>20.0</td>\n",
       "      <td>NaN</td>\n",
       "      <td>0</td>\n",
       "    </tr>\n",
       "    <tr>\n",
       "      <th>307</th>\n",
       "      <td>54.0</td>\n",
       "      <td>1</td>\n",
       "      <td>0.0</td>\n",
       "      <td>6.0</td>\n",
       "      <td>No angina</td>\n",
       "      <td>Unstable angina</td>\n",
       "      <td>Stage 2</td>\n",
       "      <td>No</td>\n",
       "      <td>4.0</td>\n",
       "      <td>0</td>\n",
       "      <td>NaN</td>\n",
       "      <td>NaN</td>\n",
       "      <td>3.2</td>\n",
       "      <td>127.0</td>\n",
       "      <td>0.30</td>\n",
       "      <td>0.22</td>\n",
       "      <td>6.6</td>\n",
       "      <td>8.0</td>\n",
       "      <td>2.0</td>\n",
       "      <td>0</td>\n",
       "    </tr>\n",
       "    <tr>\n",
       "      <th>310</th>\n",
       "      <td>55.0</td>\n",
       "      <td>1</td>\n",
       "      <td>1.0</td>\n",
       "      <td>3.0</td>\n",
       "      <td>II FC</td>\n",
       "      <td>NaN</td>\n",
       "      <td>No</td>\n",
       "      <td>No</td>\n",
       "      <td>7.0</td>\n",
       "      <td>0</td>\n",
       "      <td>NaN</td>\n",
       "      <td>NaN</td>\n",
       "      <td>3.8</td>\n",
       "      <td>140.0</td>\n",
       "      <td>0.23</td>\n",
       "      <td>0.18</td>\n",
       "      <td>10.7</td>\n",
       "      <td>9.0</td>\n",
       "      <td>1.0</td>\n",
       "      <td>0</td>\n",
       "    </tr>\n",
       "    <tr>\n",
       "      <th>311</th>\n",
       "      <td>61.0</td>\n",
       "      <td>0</td>\n",
       "      <td>0.0</td>\n",
       "      <td>3.0</td>\n",
       "      <td>II FC</td>\n",
       "      <td>Exertional angina</td>\n",
       "      <td>Stage 2</td>\n",
       "      <td>No</td>\n",
       "      <td>3.0</td>\n",
       "      <td>1</td>\n",
       "      <td>NaN</td>\n",
       "      <td>NaN</td>\n",
       "      <td>4.0</td>\n",
       "      <td>139.0</td>\n",
       "      <td>0.30</td>\n",
       "      <td>0.11</td>\n",
       "      <td>5.5</td>\n",
       "      <td>28.0</td>\n",
       "      <td>5.0</td>\n",
       "      <td>0</td>\n",
       "    </tr>\n",
       "    <tr>\n",
       "      <th>313</th>\n",
       "      <td>49.0</td>\n",
       "      <td>0</td>\n",
       "      <td>0.0</td>\n",
       "      <td>6.0</td>\n",
       "      <td>No angina</td>\n",
       "      <td>Unstable angina</td>\n",
       "      <td>Stage 2</td>\n",
       "      <td>No</td>\n",
       "      <td>6.0</td>\n",
       "      <td>0</td>\n",
       "      <td>NaN</td>\n",
       "      <td>NaN</td>\n",
       "      <td>3.6</td>\n",
       "      <td>132.0</td>\n",
       "      <td>0.61</td>\n",
       "      <td>0.15</td>\n",
       "      <td>9.1</td>\n",
       "      <td>NaN</td>\n",
       "      <td>9.0</td>\n",
       "      <td>0</td>\n",
       "    </tr>\n",
       "    <tr>\n",
       "      <th>335</th>\n",
       "      <td>72.0</td>\n",
       "      <td>0</td>\n",
       "      <td>0.0</td>\n",
       "      <td>5.0</td>\n",
       "      <td>II FC</td>\n",
       "      <td>Exertional angina</td>\n",
       "      <td>Stage 3</td>\n",
       "      <td>No</td>\n",
       "      <td>6.0</td>\n",
       "      <td>0</td>\n",
       "      <td>NaN</td>\n",
       "      <td>NaN</td>\n",
       "      <td>3.7</td>\n",
       "      <td>138.0</td>\n",
       "      <td>0.23</td>\n",
       "      <td>0.15</td>\n",
       "      <td>6.5</td>\n",
       "      <td>26.0</td>\n",
       "      <td>9.0</td>\n",
       "      <td>0</td>\n",
       "    </tr>\n",
       "    <tr>\n",
       "      <th>362</th>\n",
       "      <td>62.0</td>\n",
       "      <td>1</td>\n",
       "      <td>1.0</td>\n",
       "      <td>6.0</td>\n",
       "      <td>No angina</td>\n",
       "      <td>Unstable angina</td>\n",
       "      <td>Stage 3</td>\n",
       "      <td>No</td>\n",
       "      <td>6.0</td>\n",
       "      <td>0</td>\n",
       "      <td>NaN</td>\n",
       "      <td>NaN</td>\n",
       "      <td>3.8</td>\n",
       "      <td>142.0</td>\n",
       "      <td>0.15</td>\n",
       "      <td>0.15</td>\n",
       "      <td>9.4</td>\n",
       "      <td>4.0</td>\n",
       "      <td>7.0</td>\n",
       "      <td>0</td>\n",
       "    </tr>\n",
       "    <tr>\n",
       "      <th>367</th>\n",
       "      <td>51.0</td>\n",
       "      <td>1</td>\n",
       "      <td>0.0</td>\n",
       "      <td>6.0</td>\n",
       "      <td>No angina</td>\n",
       "      <td>Unstable angina</td>\n",
       "      <td>Stage 2</td>\n",
       "      <td>No</td>\n",
       "      <td>5.0</td>\n",
       "      <td>0</td>\n",
       "      <td>NaN</td>\n",
       "      <td>NaN</td>\n",
       "      <td>3.1</td>\n",
       "      <td>117.0</td>\n",
       "      <td>0.75</td>\n",
       "      <td>0.15</td>\n",
       "      <td>10.9</td>\n",
       "      <td>NaN</td>\n",
       "      <td>NaN</td>\n",
       "      <td>0</td>\n",
       "    </tr>\n",
       "    <tr>\n",
       "      <th>370</th>\n",
       "      <td>64.0</td>\n",
       "      <td>1</td>\n",
       "      <td>0.0</td>\n",
       "      <td>3.0</td>\n",
       "      <td>II FC</td>\n",
       "      <td>Unstable angina</td>\n",
       "      <td>No</td>\n",
       "      <td>No</td>\n",
       "      <td>7.0</td>\n",
       "      <td>0</td>\n",
       "      <td>NaN</td>\n",
       "      <td>NaN</td>\n",
       "      <td>5.3</td>\n",
       "      <td>146.0</td>\n",
       "      <td>0.23</td>\n",
       "      <td>0.15</td>\n",
       "      <td>11.7</td>\n",
       "      <td>11.0</td>\n",
       "      <td>NaN</td>\n",
       "      <td>0</td>\n",
       "    </tr>\n",
       "    <tr>\n",
       "      <th>375</th>\n",
       "      <td>68.0</td>\n",
       "      <td>1</td>\n",
       "      <td>0.0</td>\n",
       "      <td>6.0</td>\n",
       "      <td>No angina</td>\n",
       "      <td>Unstable angina</td>\n",
       "      <td>Stage 2</td>\n",
       "      <td>No</td>\n",
       "      <td>0.0</td>\n",
       "      <td>0</td>\n",
       "      <td>NaN</td>\n",
       "      <td>NaN</td>\n",
       "      <td>5.4</td>\n",
       "      <td>141.0</td>\n",
       "      <td>0.45</td>\n",
       "      <td>0.33</td>\n",
       "      <td>7.9</td>\n",
       "      <td>11.0</td>\n",
       "      <td>9.0</td>\n",
       "      <td>0</td>\n",
       "    </tr>\n",
       "    <tr>\n",
       "      <th>377</th>\n",
       "      <td>59.0</td>\n",
       "      <td>0</td>\n",
       "      <td>1.0</td>\n",
       "      <td>5.0</td>\n",
       "      <td>II FC</td>\n",
       "      <td>Unstable angina</td>\n",
       "      <td>Stage 3</td>\n",
       "      <td>No</td>\n",
       "      <td>6.0</td>\n",
       "      <td>0</td>\n",
       "      <td>NaN</td>\n",
       "      <td>NaN</td>\n",
       "      <td>4.3</td>\n",
       "      <td>136.0</td>\n",
       "      <td>0.15</td>\n",
       "      <td>0.15</td>\n",
       "      <td>6.8</td>\n",
       "      <td>9.0</td>\n",
       "      <td>9.0</td>\n",
       "      <td>0</td>\n",
       "    </tr>\n",
       "    <tr>\n",
       "      <th>393</th>\n",
       "      <td>65.0</td>\n",
       "      <td>1</td>\n",
       "      <td>1.0</td>\n",
       "      <td>6.0</td>\n",
       "      <td>No angina</td>\n",
       "      <td>Unstable angina</td>\n",
       "      <td>No</td>\n",
       "      <td>No</td>\n",
       "      <td>7.0</td>\n",
       "      <td>0</td>\n",
       "      <td>NaN</td>\n",
       "      <td>NaN</td>\n",
       "      <td>7.8</td>\n",
       "      <td>146.0</td>\n",
       "      <td>0.30</td>\n",
       "      <td>0.15</td>\n",
       "      <td>24.9</td>\n",
       "      <td>34.0</td>\n",
       "      <td>6.0</td>\n",
       "      <td>0</td>\n",
       "    </tr>\n",
       "    <tr>\n",
       "      <th>395</th>\n",
       "      <td>60.0</td>\n",
       "      <td>1</td>\n",
       "      <td>0.0</td>\n",
       "      <td>5.0</td>\n",
       "      <td>II FC</td>\n",
       "      <td>Unstable angina</td>\n",
       "      <td>No</td>\n",
       "      <td>No</td>\n",
       "      <td>7.0</td>\n",
       "      <td>0</td>\n",
       "      <td>NaN</td>\n",
       "      <td>NaN</td>\n",
       "      <td>4.8</td>\n",
       "      <td>139.0</td>\n",
       "      <td>0.30</td>\n",
       "      <td>0.30</td>\n",
       "      <td>11.5</td>\n",
       "      <td>7.0</td>\n",
       "      <td>6.0</td>\n",
       "      <td>0</td>\n",
       "    </tr>\n",
       "    <tr>\n",
       "      <th>399</th>\n",
       "      <td>65.0</td>\n",
       "      <td>0</td>\n",
       "      <td>1.0</td>\n",
       "      <td>5.0</td>\n",
       "      <td>II FC</td>\n",
       "      <td>Unstable angina</td>\n",
       "      <td>Stage 2</td>\n",
       "      <td>No</td>\n",
       "      <td>4.0</td>\n",
       "      <td>0</td>\n",
       "      <td>NaN</td>\n",
       "      <td>NaN</td>\n",
       "      <td>4.0</td>\n",
       "      <td>126.0</td>\n",
       "      <td>0.52</td>\n",
       "      <td>0.15</td>\n",
       "      <td>5.3</td>\n",
       "      <td>7.0</td>\n",
       "      <td>2.0</td>\n",
       "      <td>0</td>\n",
       "    </tr>\n",
       "    <tr>\n",
       "      <th>402</th>\n",
       "      <td>58.0</td>\n",
       "      <td>1</td>\n",
       "      <td>0.0</td>\n",
       "      <td>6.0</td>\n",
       "      <td>No angina</td>\n",
       "      <td>No angina</td>\n",
       "      <td>No</td>\n",
       "      <td>No</td>\n",
       "      <td>7.0</td>\n",
       "      <td>0</td>\n",
       "      <td>NaN</td>\n",
       "      <td>NaN</td>\n",
       "      <td>6.0</td>\n",
       "      <td>150.0</td>\n",
       "      <td>0.38</td>\n",
       "      <td>0.30</td>\n",
       "      <td>10.3</td>\n",
       "      <td>4.0</td>\n",
       "      <td>NaN</td>\n",
       "      <td>0</td>\n",
       "    </tr>\n",
       "    <tr>\n",
       "      <th>404</th>\n",
       "      <td>58.0</td>\n",
       "      <td>1</td>\n",
       "      <td>2.0</td>\n",
       "      <td>3.0</td>\n",
       "      <td>I FC</td>\n",
       "      <td>Exertional angina</td>\n",
       "      <td>No</td>\n",
       "      <td>No</td>\n",
       "      <td>7.0</td>\n",
       "      <td>0</td>\n",
       "      <td>NaN</td>\n",
       "      <td>NaN</td>\n",
       "      <td>4.5</td>\n",
       "      <td>140.0</td>\n",
       "      <td>0.38</td>\n",
       "      <td>0.22</td>\n",
       "      <td>5.7</td>\n",
       "      <td>26.0</td>\n",
       "      <td>4.0</td>\n",
       "      <td>0</td>\n",
       "    </tr>\n",
       "    <tr>\n",
       "      <th>406</th>\n",
       "      <td>64.0</td>\n",
       "      <td>0</td>\n",
       "      <td>0.0</td>\n",
       "      <td>6.0</td>\n",
       "      <td>No angina</td>\n",
       "      <td>No angina</td>\n",
       "      <td>No</td>\n",
       "      <td>Yes</td>\n",
       "      <td>0.0</td>\n",
       "      <td>0</td>\n",
       "      <td>NaN</td>\n",
       "      <td>NaN</td>\n",
       "      <td>5.1</td>\n",
       "      <td>139.0</td>\n",
       "      <td>0.75</td>\n",
       "      <td>0.18</td>\n",
       "      <td>4.6</td>\n",
       "      <td>7.0</td>\n",
       "      <td>8.0</td>\n",
       "      <td>0</td>\n",
       "    </tr>\n",
       "    <tr>\n",
       "      <th>424</th>\n",
       "      <td>70.0</td>\n",
       "      <td>1</td>\n",
       "      <td>1.0</td>\n",
       "      <td>2.0</td>\n",
       "      <td>II FC</td>\n",
       "      <td>Exertional angina</td>\n",
       "      <td>Stage 2</td>\n",
       "      <td>No</td>\n",
       "      <td>1.0</td>\n",
       "      <td>0</td>\n",
       "      <td>NaN</td>\n",
       "      <td>NaN</td>\n",
       "      <td>3.6</td>\n",
       "      <td>137.0</td>\n",
       "      <td>0.15</td>\n",
       "      <td>0.07</td>\n",
       "      <td>12.2</td>\n",
       "      <td>5.0</td>\n",
       "      <td>3.0</td>\n",
       "      <td>0</td>\n",
       "    </tr>\n",
       "    <tr>\n",
       "      <th>427</th>\n",
       "      <td>66.0</td>\n",
       "      <td>1</td>\n",
       "      <td>0.0</td>\n",
       "      <td>6.0</td>\n",
       "      <td>No angina</td>\n",
       "      <td>Unstable angina</td>\n",
       "      <td>Stage 2</td>\n",
       "      <td>No</td>\n",
       "      <td>5.0</td>\n",
       "      <td>0</td>\n",
       "      <td>NaN</td>\n",
       "      <td>NaN</td>\n",
       "      <td>3.5</td>\n",
       "      <td>130.0</td>\n",
       "      <td>0.30</td>\n",
       "      <td>0.37</td>\n",
       "      <td>12.7</td>\n",
       "      <td>3.0</td>\n",
       "      <td>8.0</td>\n",
       "      <td>0</td>\n",
       "    </tr>\n",
       "    <tr>\n",
       "      <th>430</th>\n",
       "      <td>45.0</td>\n",
       "      <td>1</td>\n",
       "      <td>2.0</td>\n",
       "      <td>6.0</td>\n",
       "      <td>No angina</td>\n",
       "      <td>Unstable angina</td>\n",
       "      <td>Stage 2</td>\n",
       "      <td>No</td>\n",
       "      <td>4.0</td>\n",
       "      <td>0</td>\n",
       "      <td>NaN</td>\n",
       "      <td>NaN</td>\n",
       "      <td>4.6</td>\n",
       "      <td>139.0</td>\n",
       "      <td>0.52</td>\n",
       "      <td>0.26</td>\n",
       "      <td>NaN</td>\n",
       "      <td>NaN</td>\n",
       "      <td>7.0</td>\n",
       "      <td>0</td>\n",
       "    </tr>\n",
       "    <tr>\n",
       "      <th>457</th>\n",
       "      <td>61.0</td>\n",
       "      <td>1</td>\n",
       "      <td>0.0</td>\n",
       "      <td>6.0</td>\n",
       "      <td>No angina</td>\n",
       "      <td>No angina</td>\n",
       "      <td>No</td>\n",
       "      <td>No</td>\n",
       "      <td>7.0</td>\n",
       "      <td>0</td>\n",
       "      <td>NaN</td>\n",
       "      <td>NaN</td>\n",
       "      <td>3.9</td>\n",
       "      <td>140.0</td>\n",
       "      <td>0.30</td>\n",
       "      <td>0.07</td>\n",
       "      <td>5.3</td>\n",
       "      <td>4.0</td>\n",
       "      <td>2.0</td>\n",
       "      <td>0</td>\n",
       "    </tr>\n",
       "    <tr>\n",
       "      <th>464</th>\n",
       "      <td>41.0</td>\n",
       "      <td>1</td>\n",
       "      <td>0.0</td>\n",
       "      <td>6.0</td>\n",
       "      <td>No angina</td>\n",
       "      <td>No angina</td>\n",
       "      <td>Stage 2</td>\n",
       "      <td>No</td>\n",
       "      <td>4.0</td>\n",
       "      <td>0</td>\n",
       "      <td>NaN</td>\n",
       "      <td>NaN</td>\n",
       "      <td>4.2</td>\n",
       "      <td>123.0</td>\n",
       "      <td>0.52</td>\n",
       "      <td>0.26</td>\n",
       "      <td>9.8</td>\n",
       "      <td>3.0</td>\n",
       "      <td>2.0</td>\n",
       "      <td>0</td>\n",
       "    </tr>\n",
       "    <tr>\n",
       "      <th>466</th>\n",
       "      <td>74.0</td>\n",
       "      <td>0</td>\n",
       "      <td>0.0</td>\n",
       "      <td>6.0</td>\n",
       "      <td>No angina</td>\n",
       "      <td>Unstable angina</td>\n",
       "      <td>Stage 3</td>\n",
       "      <td>No</td>\n",
       "      <td>6.0</td>\n",
       "      <td>0</td>\n",
       "      <td>NaN</td>\n",
       "      <td>NaN</td>\n",
       "      <td>5.6</td>\n",
       "      <td>140.0</td>\n",
       "      <td>0.15</td>\n",
       "      <td>0.15</td>\n",
       "      <td>9.1</td>\n",
       "      <td>5.0</td>\n",
       "      <td>1.0</td>\n",
       "      <td>0</td>\n",
       "    </tr>\n",
       "    <tr>\n",
       "      <th>476</th>\n",
       "      <td>60.0</td>\n",
       "      <td>1</td>\n",
       "      <td>0.0</td>\n",
       "      <td>6.0</td>\n",
       "      <td>No angina</td>\n",
       "      <td>No angina</td>\n",
       "      <td>No</td>\n",
       "      <td>No</td>\n",
       "      <td>7.0</td>\n",
       "      <td>0</td>\n",
       "      <td>NaN</td>\n",
       "      <td>NaN</td>\n",
       "      <td>4.5</td>\n",
       "      <td>149.0</td>\n",
       "      <td>1.51</td>\n",
       "      <td>0.52</td>\n",
       "      <td>7.1</td>\n",
       "      <td>15.0</td>\n",
       "      <td>3.0</td>\n",
       "      <td>0</td>\n",
       "    </tr>\n",
       "    <tr>\n",
       "      <th>479</th>\n",
       "      <td>60.0</td>\n",
       "      <td>1</td>\n",
       "      <td>1.0</td>\n",
       "      <td>5.0</td>\n",
       "      <td>II FC</td>\n",
       "      <td>Exertional angina</td>\n",
       "      <td>Stage 2</td>\n",
       "      <td>No</td>\n",
       "      <td>6.0</td>\n",
       "      <td>0</td>\n",
       "      <td>NaN</td>\n",
       "      <td>NaN</td>\n",
       "      <td>NaN</td>\n",
       "      <td>NaN</td>\n",
       "      <td>0.45</td>\n",
       "      <td>0.07</td>\n",
       "      <td>7.3</td>\n",
       "      <td>6.0</td>\n",
       "      <td>1.0</td>\n",
       "      <td>0</td>\n",
       "    </tr>\n",
       "    <tr>\n",
       "      <th>481</th>\n",
       "      <td>59.0</td>\n",
       "      <td>0</td>\n",
       "      <td>0.0</td>\n",
       "      <td>3.0</td>\n",
       "      <td>II FC</td>\n",
       "      <td>No angina</td>\n",
       "      <td>Stage 2</td>\n",
       "      <td>No</td>\n",
       "      <td>0.0</td>\n",
       "      <td>0</td>\n",
       "      <td>NaN</td>\n",
       "      <td>NaN</td>\n",
       "      <td>5.7</td>\n",
       "      <td>150.0</td>\n",
       "      <td>0.68</td>\n",
       "      <td>0.50</td>\n",
       "      <td>4.9</td>\n",
       "      <td>15.0</td>\n",
       "      <td>3.0</td>\n",
       "      <td>0</td>\n",
       "    </tr>\n",
       "    <tr>\n",
       "      <th>501</th>\n",
       "      <td>46.0</td>\n",
       "      <td>1</td>\n",
       "      <td>1.0</td>\n",
       "      <td>6.0</td>\n",
       "      <td>No angina</td>\n",
       "      <td>No angina</td>\n",
       "      <td>Stage 2</td>\n",
       "      <td>No</td>\n",
       "      <td>5.0</td>\n",
       "      <td>0</td>\n",
       "      <td>NaN</td>\n",
       "      <td>NaN</td>\n",
       "      <td>5.5</td>\n",
       "      <td>150.0</td>\n",
       "      <td>1.43</td>\n",
       "      <td>0.22</td>\n",
       "      <td>17.4</td>\n",
       "      <td>5.0</td>\n",
       "      <td>1.0</td>\n",
       "      <td>0</td>\n",
       "    </tr>\n",
       "    <tr>\n",
       "      <th>512</th>\n",
       "      <td>56.0</td>\n",
       "      <td>1</td>\n",
       "      <td>2.0</td>\n",
       "      <td>5.0</td>\n",
       "      <td>II FC</td>\n",
       "      <td>Unstable angina</td>\n",
       "      <td>Stage 2</td>\n",
       "      <td>No</td>\n",
       "      <td>6.0</td>\n",
       "      <td>0</td>\n",
       "      <td>NaN</td>\n",
       "      <td>NaN</td>\n",
       "      <td>6.7</td>\n",
       "      <td>137.0</td>\n",
       "      <td>0.23</td>\n",
       "      <td>0.15</td>\n",
       "      <td>6.8</td>\n",
       "      <td>7.0</td>\n",
       "      <td>9.0</td>\n",
       "      <td>0</td>\n",
       "    </tr>\n",
       "    <tr>\n",
       "      <th>519</th>\n",
       "      <td>50.0</td>\n",
       "      <td>1</td>\n",
       "      <td>1.0</td>\n",
       "      <td>3.0</td>\n",
       "      <td>II FC</td>\n",
       "      <td>Exertional angina</td>\n",
       "      <td>No</td>\n",
       "      <td>No</td>\n",
       "      <td>7.0</td>\n",
       "      <td>0</td>\n",
       "      <td>NaN</td>\n",
       "      <td>NaN</td>\n",
       "      <td>3.7</td>\n",
       "      <td>139.0</td>\n",
       "      <td>1.20</td>\n",
       "      <td>0.45</td>\n",
       "      <td>6.8</td>\n",
       "      <td>5.0</td>\n",
       "      <td>7.0</td>\n",
       "      <td>0</td>\n",
       "    </tr>\n",
       "  </tbody>\n",
       "</table>\n",
       "</div>"
      ],
      "text/plain": [
       "      Age  Gender  myocardial  Exertional angina         FC  \\\n",
       "1    50.0       1         1.0                2.0      II FC   \n",
       "5    54.0       1         0.0                6.0  No angina   \n",
       "11   49.0       1         1.0                3.0      II FC   \n",
       "26   69.0       1         2.0                1.0      II FC   \n",
       "56   65.0       1         2.0                0.0      II FC   \n",
       "72   72.0       0         2.0                3.0      II FC   \n",
       "76   74.0       0         0.0                5.0      II FC   \n",
       "101  63.0       0         0.0                6.0  No angina   \n",
       "102  62.0       1         0.0                6.0  No angina   \n",
       "109  71.0       0         2.0                2.0      II FC   \n",
       "154  73.0       0         1.0                6.0  No angina   \n",
       "191  50.0       1         0.0                4.0       I FC   \n",
       "226  63.0       0         2.0                2.0      II FC   \n",
       "237  49.0       1         0.0                6.0  No angina   \n",
       "240  65.0       0         0.0                6.0  No angina   \n",
       "241  57.0       1         0.0                6.0  No angina   \n",
       "248  59.0       1         0.0                2.0      II FC   \n",
       "270  67.0       1         1.0                5.0      II FC   \n",
       "277  46.0       0         0.0                6.0  No angina   \n",
       "295  59.0       1         0.0                2.0      II FC   \n",
       "297  57.0       1         0.0                5.0      II FC   \n",
       "299  73.0       0         0.0                6.0  No angina   \n",
       "307  54.0       1         0.0                6.0  No angina   \n",
       "310  55.0       1         1.0                3.0      II FC   \n",
       "311  61.0       0         0.0                3.0      II FC   \n",
       "313  49.0       0         0.0                6.0  No angina   \n",
       "335  72.0       0         0.0                5.0      II FC   \n",
       "362  62.0       1         1.0                6.0  No angina   \n",
       "367  51.0       1         0.0                6.0  No angina   \n",
       "370  64.0       1         0.0                3.0      II FC   \n",
       "375  68.0       1         0.0                6.0  No angina   \n",
       "377  59.0       0         1.0                5.0      II FC   \n",
       "393  65.0       1         1.0                6.0  No angina   \n",
       "395  60.0       1         0.0                5.0      II FC   \n",
       "399  65.0       0         1.0                5.0      II FC   \n",
       "402  58.0       1         0.0                6.0  No angina   \n",
       "404  58.0       1         2.0                3.0       I FC   \n",
       "406  64.0       0         0.0                6.0  No angina   \n",
       "424  70.0       1         1.0                2.0      II FC   \n",
       "427  66.0       1         0.0                6.0  No angina   \n",
       "430  45.0       1         2.0                6.0  No angina   \n",
       "457  61.0       1         0.0                6.0  No angina   \n",
       "464  41.0       1         0.0                6.0  No angina   \n",
       "466  74.0       0         0.0                6.0  No angina   \n",
       "476  60.0       1         0.0                6.0  No angina   \n",
       "479  60.0       1         1.0                5.0      II FC   \n",
       "481  59.0       0         0.0                3.0      II FC   \n",
       "501  46.0       1         1.0                6.0  No angina   \n",
       "512  56.0       1         2.0                5.0      II FC   \n",
       "519  50.0       1         1.0                3.0      II FC   \n",
       "\n",
       "         Heart Disease Hypertension Symptomatic hypertension  Duration  \\\n",
       "1      Unstable angina      Stage 2                       No       0.0   \n",
       "5            No angina           No                       No       7.0   \n",
       "11     Unstable angina      Stage 2                       No       5.0   \n",
       "26     Unstable angina      Stage 2                       No       0.0   \n",
       "56     Unstable angina           No                       No       7.0   \n",
       "72   Exertional angina      Stage 2                       No       2.0   \n",
       "76     Unstable angina      Stage 2                       No       6.0   \n",
       "101    Unstable angina      Stage 2                       No       2.0   \n",
       "102          No angina      Stage 2                       No       5.0   \n",
       "109  Exertional angina      Stage 2                       No       1.0   \n",
       "154    Unstable angina      Stage 2                       No       4.0   \n",
       "191  Exertional angina      Stage 3                       No       5.0   \n",
       "226  Exertional angina      Stage 2                       No       6.0   \n",
       "237          No angina      Stage 2                       No       0.0   \n",
       "240    Unstable angina      Stage 2                       No       5.0   \n",
       "241          No angina           No                       No       7.0   \n",
       "248    Unstable angina      Stage 2                       No       6.0   \n",
       "270  Exertional angina           No                       No       7.0   \n",
       "277    Unstable angina           No                      Yes       6.0   \n",
       "295    Unstable angina           No                       No       7.0   \n",
       "297    Unstable angina      Stage 2                       No       6.0   \n",
       "299    Unstable angina           No                      Yes       5.0   \n",
       "307    Unstable angina      Stage 2                       No       4.0   \n",
       "310                NaN           No                       No       7.0   \n",
       "311  Exertional angina      Stage 2                       No       3.0   \n",
       "313    Unstable angina      Stage 2                       No       6.0   \n",
       "335  Exertional angina      Stage 3                       No       6.0   \n",
       "362    Unstable angina      Stage 3                       No       6.0   \n",
       "367    Unstable angina      Stage 2                       No       5.0   \n",
       "370    Unstable angina           No                       No       7.0   \n",
       "375    Unstable angina      Stage 2                       No       0.0   \n",
       "377    Unstable angina      Stage 3                       No       6.0   \n",
       "393    Unstable angina           No                       No       7.0   \n",
       "395    Unstable angina           No                       No       7.0   \n",
       "399    Unstable angina      Stage 2                       No       4.0   \n",
       "402          No angina           No                       No       7.0   \n",
       "404  Exertional angina           No                       No       7.0   \n",
       "406          No angina           No                      Yes       0.0   \n",
       "424  Exertional angina      Stage 2                       No       1.0   \n",
       "427    Unstable angina      Stage 2                       No       5.0   \n",
       "430    Unstable angina      Stage 2                       No       4.0   \n",
       "457          No angina           No                       No       7.0   \n",
       "464          No angina      Stage 2                       No       4.0   \n",
       "466    Unstable angina      Stage 3                       No       6.0   \n",
       "476          No angina           No                       No       7.0   \n",
       "479  Exertional angina      Stage 2                       No       6.0   \n",
       "481          No angina      Stage 2                       No       0.0   \n",
       "501          No angina      Stage 2                       No       5.0   \n",
       "512    Unstable angina      Stage 2                       No       6.0   \n",
       "519  Exertional angina           No                       No       7.0   \n",
       "\n",
       "     Arrhythmia  Systolic_intensive_care  Diastolic_intensive_care  Potassium  \\\n",
       "1             0                      NaN                       NaN        3.9   \n",
       "5             0                      NaN                       NaN        5.3   \n",
       "11            0                      NaN                       NaN        4.4   \n",
       "26            0                      NaN                       NaN        4.5   \n",
       "56            0                      NaN                       NaN        3.5   \n",
       "72            0                      NaN                       NaN        3.6   \n",
       "76            0                      NaN                       NaN        NaN   \n",
       "101           0                      NaN                       NaN        4.6   \n",
       "102           0                      NaN                       NaN        3.1   \n",
       "109           0                      NaN                       NaN        3.7   \n",
       "154           0                      NaN                       NaN        4.0   \n",
       "191           0                      NaN                       NaN        4.4   \n",
       "226           0                      NaN                       NaN        3.7   \n",
       "237           0                      NaN                       NaN        4.4   \n",
       "240           0                      NaN                       NaN        4.1   \n",
       "241           0                      NaN                       NaN        3.4   \n",
       "248           0                      NaN                       NaN        4.7   \n",
       "270           0                      NaN                       NaN        3.5   \n",
       "277           0                      NaN                       NaN        5.5   \n",
       "295           0                      NaN                       NaN        3.9   \n",
       "297           0                      NaN                       NaN        4.7   \n",
       "299           0                      NaN                       NaN        4.9   \n",
       "307           0                      NaN                       NaN        3.2   \n",
       "310           0                      NaN                       NaN        3.8   \n",
       "311           1                      NaN                       NaN        4.0   \n",
       "313           0                      NaN                       NaN        3.6   \n",
       "335           0                      NaN                       NaN        3.7   \n",
       "362           0                      NaN                       NaN        3.8   \n",
       "367           0                      NaN                       NaN        3.1   \n",
       "370           0                      NaN                       NaN        5.3   \n",
       "375           0                      NaN                       NaN        5.4   \n",
       "377           0                      NaN                       NaN        4.3   \n",
       "393           0                      NaN                       NaN        7.8   \n",
       "395           0                      NaN                       NaN        4.8   \n",
       "399           0                      NaN                       NaN        4.0   \n",
       "402           0                      NaN                       NaN        6.0   \n",
       "404           0                      NaN                       NaN        4.5   \n",
       "406           0                      NaN                       NaN        5.1   \n",
       "424           0                      NaN                       NaN        3.6   \n",
       "427           0                      NaN                       NaN        3.5   \n",
       "430           0                      NaN                       NaN        4.6   \n",
       "457           0                      NaN                       NaN        3.9   \n",
       "464           0                      NaN                       NaN        4.2   \n",
       "466           0                      NaN                       NaN        5.6   \n",
       "476           0                      NaN                       NaN        4.5   \n",
       "479           0                      NaN                       NaN        NaN   \n",
       "481           0                      NaN                       NaN        5.7   \n",
       "501           0                      NaN                       NaN        5.5   \n",
       "512           0                      NaN                       NaN        6.7   \n",
       "519           0                      NaN                       NaN        3.7   \n",
       "\n",
       "     Sodium  AlAT  AsAT   WBC   ESR  Time  Outcome  \n",
       "1     132.0  0.23  0.52   6.2  20.0   7.0        0  \n",
       "5     139.0  0.15  0.11   6.8  30.0   2.0        0  \n",
       "11    139.0  0.61  0.30   5.1  20.0   9.0        0  \n",
       "26    141.0  0.61  0.41   7.5  48.0   9.0        0  \n",
       "56    127.0  0.15  0.22  12.3   5.0   NaN        0  \n",
       "72    130.0  1.20  0.15   4.8   NaN   3.0        0  \n",
       "76      NaN  0.15  0.30   5.6  45.0   9.0        0  \n",
       "101   140.0  0.30  0.15   8.8   4.0   3.0        0  \n",
       "102   132.0  0.23  0.15  13.1   4.0   7.0        0  \n",
       "109   132.0  0.30  0.37  11.5  13.0   3.0        0  \n",
       "154   134.0  0.15  0.07   7.7  20.0   2.0        0  \n",
       "191   140.0  0.68  0.18   NaN   NaN   9.0        0  \n",
       "226   139.0  0.75  0.18   6.6   7.0   1.0        0  \n",
       "237   145.0  0.38  0.07   6.3   6.0   9.0        0  \n",
       "240   140.0  0.30  0.15   4.7  11.0   2.0        0  \n",
       "241   140.0  0.38  0.22   7.6   4.0   1.0        0  \n",
       "248   142.0  0.30  0.07  10.3  17.0   6.0        0  \n",
       "270   129.0  0.38  0.18  10.4  20.0   3.0        0  \n",
       "277   140.0  1.20  0.56  11.7  36.0   6.0        0  \n",
       "295   131.0  0.45  0.30  12.7   9.0   3.0        0  \n",
       "297   139.0  0.15  0.11   7.0  10.0   9.0        0  \n",
       "299   140.0  0.61  0.15   8.2  20.0   NaN        0  \n",
       "307   127.0  0.30  0.22   6.6   8.0   2.0        0  \n",
       "310   140.0  0.23  0.18  10.7   9.0   1.0        0  \n",
       "311   139.0  0.30  0.11   5.5  28.0   5.0        0  \n",
       "313   132.0  0.61  0.15   9.1   NaN   9.0        0  \n",
       "335   138.0  0.23  0.15   6.5  26.0   9.0        0  \n",
       "362   142.0  0.15  0.15   9.4   4.0   7.0        0  \n",
       "367   117.0  0.75  0.15  10.9   NaN   NaN        0  \n",
       "370   146.0  0.23  0.15  11.7  11.0   NaN        0  \n",
       "375   141.0  0.45  0.33   7.9  11.0   9.0        0  \n",
       "377   136.0  0.15  0.15   6.8   9.0   9.0        0  \n",
       "393   146.0  0.30  0.15  24.9  34.0   6.0        0  \n",
       "395   139.0  0.30  0.30  11.5   7.0   6.0        0  \n",
       "399   126.0  0.52  0.15   5.3   7.0   2.0        0  \n",
       "402   150.0  0.38  0.30  10.3   4.0   NaN        0  \n",
       "404   140.0  0.38  0.22   5.7  26.0   4.0        0  \n",
       "406   139.0  0.75  0.18   4.6   7.0   8.0        0  \n",
       "424   137.0  0.15  0.07  12.2   5.0   3.0        0  \n",
       "427   130.0  0.30  0.37  12.7   3.0   8.0        0  \n",
       "430   139.0  0.52  0.26   NaN   NaN   7.0        0  \n",
       "457   140.0  0.30  0.07   5.3   4.0   2.0        0  \n",
       "464   123.0  0.52  0.26   9.8   3.0   2.0        0  \n",
       "466   140.0  0.15  0.15   9.1   5.0   1.0        0  \n",
       "476   149.0  1.51  0.52   7.1  15.0   3.0        0  \n",
       "479     NaN  0.45  0.07   7.3   6.0   1.0        0  \n",
       "481   150.0  0.68  0.50   4.9  15.0   3.0        0  \n",
       "501   150.0  1.43  0.22  17.4   5.0   1.0        0  \n",
       "512   137.0  0.23  0.15   6.8   7.0   9.0        0  \n",
       "519   139.0  1.20  0.45   6.8   5.0   7.0        0  "
      ]
     },
     "execution_count": 42,
     "metadata": {},
     "output_type": "execute_result"
    }
   ],
   "source": [
    "df[df['Systolic_intensive_care'].isna()].head(50)\n",
    "#df[df['var2'].isnull()]"
   ]
  },
  {
   "cell_type": "code",
   "execution_count": 43,
   "metadata": {},
   "outputs": [
    {
     "data": {
      "image/png": "[encoded data removed]",
      "text/plain": [
       "<Figure size 432x288 with 2 Axes>"
      ]
     },
     "metadata": {},
     "output_type": "display_data"
    }
   ],
   "source": [
    "import seaborn as sn\n",
    "correlation=df.select_dtypes(include='number')\n",
    "corrMatrix=correlation.corr()\n",
    "sn.heatmap(corrMatrix, annot=True)\n",
    "plt.show()"
   ]
  },
  {
   "cell_type": "code",
   "execution_count": 44,
   "metadata": {},
   "outputs": [
    {
     "data": {
      "text/plain": [
       "<AxesSubplot:xlabel='Hypertension', ylabel='Systolic_intensive_care'>"
      ]
     },
     "execution_count": 44,
     "metadata": {},
     "output_type": "execute_result"
    },
    {
     "data": {
      "image/png": "[encoded data removed]",
      "text/plain": [
       "<Figure size 432x288 with 1 Axes>"
      ]
     },
     "metadata": {},
     "output_type": "display_data"
    }
   ],
   "source": [
    "sns.boxplot(y=\"Systolic_intensive_care\", x=\"Hypertension\", data=df)"
   ]
  },
  {
   "cell_type": "markdown",
   "metadata": {},
   "source": [
    "### Solving null value problem of Systolic_intensive_care column with the help of Hypertension  Columns \n"
   ]
  },
  {
   "cell_type": "code",
   "execution_count": 45,
   "metadata": {},
   "outputs": [],
   "source": [
    "# NULL soltution:Using Hypertension group to generate value for null for Systolic_intensive_care\n",
    "\n",
    "\n",
    "df['Systolic_intensive_care']=df.groupby(['Hypertension'])['Systolic_intensive_care'].transform(lambda x: x.fillna(x.median()))\n"
   ]
  },
  {
   "cell_type": "markdown",
   "metadata": {},
   "source": [
    "### Solving null value problem of Diastolic_intensive_care column with the help of Hypertension  Columns \n"
   ]
  },
  {
   "cell_type": "code",
   "execution_count": 46,
   "metadata": {},
   "outputs": [],
   "source": [
    "# Using same approach to find out Diastolic_intensive_care value from Systolic_intensive_care\n",
    "df['Diastolic_intensive_care']=df.groupby(['Hypertension'])['Diastolic_intensive_care'].transform(lambda x: x.fillna(x.median()))\n",
    "\n",
    "\n"
   ]
  },
  {
   "cell_type": "code",
   "execution_count": 47,
   "metadata": {},
   "outputs": [],
   "source": [
    "df['Potassium']=pd.to_numeric(df['Potassium'])\n",
    "df['Sodium']=pd.to_numeric(df['Sodium'])\n",
    "df['AlAT']=pd.to_numeric(df['AlAT'])\n",
    "df['AsAT']=pd.to_numeric(df['AsAT'])\n",
    "df['WBC']=pd.to_numeric(df['WBC'])\n",
    "df['ESR']=pd.to_numeric(df['ESR'])\n",
    "df['Time']=pd.to_numeric(df['Time'])"
   ]
  },
  {
   "cell_type": "code",
   "execution_count": 48,
   "metadata": {},
   "outputs": [
    {
     "data": {
      "text/plain": [
       "<AxesSubplot:xlabel='FC', ylabel='Potassium'>"
      ]
     },
     "execution_count": 48,
     "metadata": {},
     "output_type": "execute_result"
    },
    {
     "data": {
      "image/png": "[encoded data removed]",
      "text/plain": [
       "<Figure size 432x288 with 1 Axes>"
      ]
     },
     "metadata": {},
     "output_type": "display_data"
    }
   ],
   "source": [
    "\n",
    "sns.boxplot(y=\"Potassium\", x=\"FC\", data=df)\n"
   ]
  },
  {
   "cell_type": "markdown",
   "metadata": {},
   "source": [
    "### Solving null value problem of Heart Disease column with the help of Hypertension  Columns \n"
   ]
  },
  {
   "cell_type": "code",
   "execution_count": 49,
   "metadata": {},
   "outputs": [],
   "source": [
    "df['Heart Disease'] = df.groupby(['Hypertension'])['Heart Disease'].transform(lambda x: x.fillna(x.value_counts().index[0]))\n"
   ]
  },
  {
   "cell_type": "markdown",
   "metadata": {},
   "source": [
    "### Solving null value problem of FC column with the help of Heart Disease  Columns \n"
   ]
  },
  {
   "cell_type": "code",
   "execution_count": 50,
   "metadata": {},
   "outputs": [],
   "source": [
    "\n",
    "df['FC'] = df.groupby(['Heart Disease'])['FC'].transform(lambda x: x.fillna(x.value_counts().index[0]))\n"
   ]
  },
  {
   "cell_type": "code",
   "execution_count": 51,
   "metadata": {},
   "outputs": [],
   "source": [
    "# null solution of potassium"
   ]
  },
  {
   "cell_type": "code",
   "execution_count": 52,
   "metadata": {},
   "outputs": [
    {
     "data": {
      "text/plain": [
       "<AxesSubplot:xlabel='FC', ylabel='Potassium'>"
      ]
     },
     "execution_count": 52,
     "metadata": {},
     "output_type": "execute_result"
    },
    {
     "data": {
      "image/png": "[encoded data removed]",
      "text/plain": [
       "<Figure size 432x288 with 1 Axes>"
      ]
     },
     "metadata": {},
     "output_type": "display_data"
    }
   ],
   "source": [
    "sns.boxplot(y=\"Potassium\", x=\"FC\", data=df)\n"
   ]
  },
  {
   "cell_type": "markdown",
   "metadata": {},
   "source": [
    "### Solving null value problem of FC column with the help of Heart Disease  Columns \n"
   ]
  },
  {
   "cell_type": "code",
   "execution_count": 53,
   "metadata": {},
   "outputs": [],
   "source": [
    "df['Potassium']=df.groupby(['FC'])['Potassium'].transform(lambda x: x.fillna(x.median()))\n"
   ]
  },
  {
   "cell_type": "code",
   "execution_count": 54,
   "metadata": {},
   "outputs": [
    {
     "data": {
      "text/plain": [
       "<AxesSubplot:xlabel='Hypertension', ylabel='Sodium'>"
      ]
     },
     "execution_count": 54,
     "metadata": {},
     "output_type": "execute_result"
    },
    {
     "data": {
      "image/png": "[encoded data removed]",
      "text/plain": [
       "<Figure size 432x288 with 1 Axes>"
      ]
     },
     "metadata": {},
     "output_type": "display_data"
    }
   ],
   "source": [
    "sns.boxplot(y=\"Sodium\", x=\"Hypertension\", data=df)\n"
   ]
  },
  {
   "cell_type": "markdown",
   "metadata": {},
   "source": [
    "### Solving null value problem of Sodium  column with the help of Hypertension  Column\n"
   ]
  },
  {
   "cell_type": "code",
   "execution_count": 55,
   "metadata": {},
   "outputs": [],
   "source": [
    "\n",
    "df['Sodium']=df.groupby(['Hypertension'])['Sodium'].transform(lambda x: x.fillna(x.median()))\n"
   ]
  },
  {
   "cell_type": "code",
   "execution_count": 56,
   "metadata": {},
   "outputs": [],
   "source": [
    "# NULL solution for AlAT\n"
   ]
  },
  {
   "cell_type": "code",
   "execution_count": 57,
   "metadata": {},
   "outputs": [
    {
     "data": {
      "text/plain": [
       "<AxesSubplot:xlabel='Hypertension', ylabel='AlAT'>"
      ]
     },
     "execution_count": 57,
     "metadata": {},
     "output_type": "execute_result"
    },
    {
     "data": {
      "image/png": "[encoded data removed]",
      "text/plain": [
       "<Figure size 432x288 with 1 Axes>"
      ]
     },
     "metadata": {},
     "output_type": "display_data"
    }
   ],
   "source": [
    "sns.boxplot(y=\"AlAT\", x='Hypertension', data=df)\n"
   ]
  },
  {
   "cell_type": "markdown",
   "metadata": {},
   "source": [
    "### Solving null value problem of AlAT  column with the help of Hypertension  Column\n"
   ]
  },
  {
   "cell_type": "code",
   "execution_count": 58,
   "metadata": {},
   "outputs": [],
   "source": [
    "df['AlAT']=df.groupby(['Hypertension'])['AlAT'].transform(lambda x: x.fillna(x.median()))\n"
   ]
  },
  {
   "cell_type": "code",
   "execution_count": 59,
   "metadata": {},
   "outputs": [
    {
     "data": {
      "text/plain": [
       "<AxesSubplot:xlabel='FC', ylabel='AsAT'>"
      ]
     },
     "execution_count": 59,
     "metadata": {},
     "output_type": "execute_result"
    },
    {
     "data": {
      "image/png": "[encoded data removed]",
      "text/plain": [
       "<Figure size 432x288 with 1 Axes>"
      ]
     },
     "metadata": {},
     "output_type": "display_data"
    }
   ],
   "source": [
    "sns.boxplot(y=\"AsAT\", x='FC', data=df)\n"
   ]
  },
  {
   "cell_type": "markdown",
   "metadata": {},
   "source": [
    "### Solving null value problem of AsAT  column with the help of FC  Column\n"
   ]
  },
  {
   "cell_type": "code",
   "execution_count": 60,
   "metadata": {},
   "outputs": [],
   "source": [
    "df['AsAT']=df.groupby(['FC'])['AsAT'].transform(lambda x: x.fillna(x.median()))\n"
   ]
  },
  {
   "cell_type": "code",
   "execution_count": 61,
   "metadata": {},
   "outputs": [
    {
     "data": {
      "text/plain": [
       "Age                          0\n",
       "Gender                       0\n",
       "myocardial                   0\n",
       "Exertional angina            0\n",
       "FC                           0\n",
       "Heart Disease                0\n",
       "Hypertension                 0\n",
       "Symptomatic hypertension     0\n",
       "Duration                     0\n",
       "Arrhythmia                   0\n",
       "Systolic_intensive_care      0\n",
       "Diastolic_intensive_care     0\n",
       "Potassium                    0\n",
       "Sodium                       0\n",
       "AlAT                         0\n",
       "AsAT                         0\n",
       "WBC                         24\n",
       "ESR                         73\n",
       "Time                        68\n",
       "Outcome                      0\n",
       "dtype: int64"
      ]
     },
     "execution_count": 61,
     "metadata": {},
     "output_type": "execute_result"
    }
   ],
   "source": [
    "df.isna().sum()"
   ]
  },
  {
   "cell_type": "code",
   "execution_count": 62,
   "metadata": {},
   "outputs": [
    {
     "data": {
      "text/plain": [
       "<AxesSubplot:xlabel='Exertional angina', ylabel='WBC'>"
      ]
     },
     "execution_count": 62,
     "metadata": {},
     "output_type": "execute_result"
    },
    {
     "data": {
      "image/png": "[encoded data removed]",
      "text/plain": [
       "<Figure size 432x288 with 1 Axes>"
      ]
     },
     "metadata": {},
     "output_type": "display_data"
    }
   ],
   "source": [
    "sns.boxplot(y=\"WBC\", x='Exertional angina', data=df)\n"
   ]
  },
  {
   "cell_type": "markdown",
   "metadata": {},
   "source": [
    "### Solving null value problem of WBC  column with the help of Exertional angina  Column\n"
   ]
  },
  {
   "cell_type": "code",
   "execution_count": 63,
   "metadata": {},
   "outputs": [],
   "source": [
    "df['WBC']=df.groupby(['Exertional angina'])['WBC'].transform(lambda x: x.fillna(x.median()))\n"
   ]
  },
  {
   "cell_type": "code",
   "execution_count": 64,
   "metadata": {},
   "outputs": [
    {
     "data": {
      "text/plain": [
       "Age                          0\n",
       "Gender                       0\n",
       "myocardial                   0\n",
       "Exertional angina            0\n",
       "FC                           0\n",
       "Heart Disease                0\n",
       "Hypertension                 0\n",
       "Symptomatic hypertension     0\n",
       "Duration                     0\n",
       "Arrhythmia                   0\n",
       "Systolic_intensive_care      0\n",
       "Diastolic_intensive_care     0\n",
       "Potassium                    0\n",
       "Sodium                       0\n",
       "AlAT                         0\n",
       "AsAT                         0\n",
       "WBC                          0\n",
       "ESR                         73\n",
       "Time                        68\n",
       "Outcome                      0\n",
       "dtype: int64"
      ]
     },
     "execution_count": 64,
     "metadata": {},
     "output_type": "execute_result"
    }
   ],
   "source": [
    "df.isna().sum()"
   ]
  },
  {
   "cell_type": "code",
   "execution_count": 65,
   "metadata": {},
   "outputs": [
    {
     "data": {
      "text/plain": [
       "Gender  myocardial\n",
       "0       0.0           16.250996\n",
       "        1.0           17.118280\n",
       "        2.0           19.411765\n",
       "        3.0           13.636364\n",
       "1       0.0           10.764706\n",
       "        1.0           11.654088\n",
       "        2.0           15.122449\n",
       "        3.0           13.864865\n",
       "Name: ESR, dtype: float64"
      ]
     },
     "execution_count": 65,
     "metadata": {},
     "output_type": "execute_result"
    }
   ],
   "source": [
    "df.groupby(['Gender','myocardial'])['ESR'].mean()"
   ]
  },
  {
   "cell_type": "code",
   "execution_count": 66,
   "metadata": {},
   "outputs": [
    {
     "data": {
      "text/plain": [
       "<AxesSubplot:xlabel='Gender', ylabel='ESR'>"
      ]
     },
     "execution_count": 66,
     "metadata": {},
     "output_type": "execute_result"
    },
    {
     "data": {
      "image/png": "[encoded data removed]",
      "text/plain": [
       "<Figure size 432x288 with 1 Axes>"
      ]
     },
     "metadata": {},
     "output_type": "display_data"
    }
   ],
   "source": [
    "sns.boxplot(y=\"ESR\", x='Gender', data=df)\n"
   ]
  },
  {
   "cell_type": "code",
   "execution_count": 67,
   "metadata": {},
   "outputs": [
    {
     "data": {
      "text/plain": [
       "<AxesSubplot:xlabel='myocardial', ylabel='ESR'>"
      ]
     },
     "execution_count": 67,
     "metadata": {},
     "output_type": "execute_result"
    },
    {
     "data": {
      "image/png": "[encoded data removed]",
      "text/plain": [
       "<Figure size 432x288 with 1 Axes>"
      ]
     },
     "metadata": {},
     "output_type": "display_data"
    }
   ],
   "source": [
    "sns.boxplot(y=\"ESR\", x='myocardial', data=df)\n"
   ]
  },
  {
   "cell_type": "markdown",
   "metadata": {},
   "source": [
    "### Solving null value problem of ESR  column with the help of myocardial and Gender  Column\n"
   ]
  },
  {
   "cell_type": "code",
   "execution_count": 68,
   "metadata": {},
   "outputs": [],
   "source": [
    "df['ESR']=df.groupby(['myocardial','Gender'])['ESR'].transform(lambda x: x.fillna(x.median()))\n"
   ]
  },
  {
   "cell_type": "code",
   "execution_count": 69,
   "metadata": {},
   "outputs": [
    {
     "data": {
      "text/plain": [
       "<AxesSubplot:xlabel='FC', ylabel='Time'>"
      ]
     },
     "execution_count": 69,
     "metadata": {},
     "output_type": "execute_result"
    },
    {
     "data": {
      "image/png": "[encoded data removed]",
      "text/plain": [
       "<Figure size 432x288 with 1 Axes>"
      ]
     },
     "metadata": {},
     "output_type": "display_data"
    }
   ],
   "source": [
    "sns.boxplot(y=\"Time\", x='FC', data=df)\n"
   ]
  },
  {
   "cell_type": "code",
   "execution_count": 70,
   "metadata": {},
   "outputs": [
    {
     "data": {
      "text/plain": [
       "<AxesSubplot:xlabel='Duration', ylabel='Time'>"
      ]
     },
     "execution_count": 70,
     "metadata": {},
     "output_type": "execute_result"
    },
    {
     "data": {
      "image/png": "[encoded data removed]",
      "text/plain": [
       "<Figure size 432x288 with 1 Axes>"
      ]
     },
     "metadata": {},
     "output_type": "display_data"
    }
   ],
   "source": [
    "sns.boxplot(y=\"Time\", x='Duration', data=df)\n"
   ]
  },
  {
   "cell_type": "code",
   "execution_count": 71,
   "metadata": {},
   "outputs": [
    {
     "data": {
      "text/plain": [
       "Duration  FC       \n",
       "0.0       I FC         2.750000\n",
       "          II FC        5.900000\n",
       "          III FC       2.000000\n",
       "          IV FC        7.000000\n",
       "          No angina    5.343750\n",
       "1.0       I FC         4.666667\n",
       "          II FC        4.235294\n",
       "          III FC       1.000000\n",
       "          No angina    4.266667\n",
       "2.0       I FC         2.000000\n",
       "          II FC        4.750000\n",
       "          III FC       4.500000\n",
       "          No angina    3.315789\n",
       "3.0       II FC        5.083333\n",
       "          No angina    5.333333\n",
       "4.0       I FC         1.000000\n",
       "          II FC        4.590909\n",
       "          No angina    3.321429\n",
       "5.0       I FC         4.200000\n",
       "          II FC        4.575758\n",
       "          III FC       4.000000\n",
       "          IV FC        8.000000\n",
       "          No angina    5.234568\n",
       "6.0       I FC         5.090909\n",
       "          II FC        4.703297\n",
       "          III FC       4.692308\n",
       "          IV FC        7.000000\n",
       "          No angina    4.604938\n",
       "7.0       I FC         6.166667\n",
       "          II FC        4.386207\n",
       "          III FC       5.200000\n",
       "          IV FC        7.000000\n",
       "          No angina    4.750000\n",
       "Name: Time, dtype: float64"
      ]
     },
     "execution_count": 71,
     "metadata": {},
     "output_type": "execute_result"
    }
   ],
   "source": [
    "# FC hatauna parne huna sakcha\n",
    "\n",
    "df.groupby(['Duration','FC'])['Time'].mean()"
   ]
  },
  {
   "cell_type": "markdown",
   "metadata": {},
   "source": [
    "### Solving null value problem of Time  column with the help of Duration and FC  Column\n"
   ]
  },
  {
   "cell_type": "code",
   "execution_count": 72,
   "metadata": {},
   "outputs": [],
   "source": [
    "df['Time']=df.groupby(['Duration','FC'])['Time'].transform(lambda x: x.fillna(x.median()))\n",
    "aa=df\n",
    "c=aa"
   ]
  },
  {
   "cell_type": "markdown",
   "metadata": {},
   "source": [
    "# Converting categorical data into one hot vector"
   ]
  },
  {
   "cell_type": "code",
   "execution_count": 73,
   "metadata": {},
   "outputs": [],
   "source": [
    "columns= ['FC','Heart Disease','Hypertension','Symptomatic hypertension']    "
   ]
  },
  {
   "cell_type": "code",
   "execution_count": 74,
   "metadata": {},
   "outputs": [
    {
     "data": {
      "text/html": [
       "<div>\n",
       "<style scoped>\n",
       "    .dataframe tbody tr th:only-of-type {\n",
       "        vertical-align: middle;\n",
       "    }\n",
       "\n",
       "    .dataframe tbody tr th {\n",
       "        vertical-align: top;\n",
       "    }\n",
       "\n",
       "    .dataframe thead th {\n",
       "        text-align: right;\n",
       "    }\n",
       "</style>\n",
       "<table border=\"1\" class=\"dataframe\">\n",
       "  <thead>\n",
       "    <tr style=\"text-align: right;\">\n",
       "      <th></th>\n",
       "      <th>Age</th>\n",
       "      <th>Gender</th>\n",
       "      <th>myocardial</th>\n",
       "      <th>Exertional angina</th>\n",
       "      <th>Duration</th>\n",
       "      <th>Arrhythmia</th>\n",
       "      <th>Systolic_intensive_care</th>\n",
       "      <th>Diastolic_intensive_care</th>\n",
       "      <th>Potassium</th>\n",
       "      <th>Sodium</th>\n",
       "      <th>...</th>\n",
       "      <th>FCNo angina</th>\n",
       "      <th>Heart DiseaseExertional angina</th>\n",
       "      <th>Heart DiseaseNo angina</th>\n",
       "      <th>Heart DiseaseUnstable angina</th>\n",
       "      <th>HypertensionNo</th>\n",
       "      <th>HypertensionStage 1</th>\n",
       "      <th>HypertensionStage 2</th>\n",
       "      <th>HypertensionStage 3</th>\n",
       "      <th>Symptomatic hypertensionNo</th>\n",
       "      <th>Symptomatic hypertensionYes</th>\n",
       "    </tr>\n",
       "  </thead>\n",
       "  <tbody>\n",
       "    <tr>\n",
       "      <th>0</th>\n",
       "      <td>75.0</td>\n",
       "      <td>0</td>\n",
       "      <td>0.0</td>\n",
       "      <td>2.0</td>\n",
       "      <td>5.0</td>\n",
       "      <td>0</td>\n",
       "      <td>140.0</td>\n",
       "      <td>90.0</td>\n",
       "      <td>4.05</td>\n",
       "      <td>136.0</td>\n",
       "      <td>...</td>\n",
       "      <td>0</td>\n",
       "      <td>1</td>\n",
       "      <td>0</td>\n",
       "      <td>0</td>\n",
       "      <td>0</td>\n",
       "      <td>0</td>\n",
       "      <td>1</td>\n",
       "      <td>0</td>\n",
       "      <td>1</td>\n",
       "      <td>0</td>\n",
       "    </tr>\n",
       "    <tr>\n",
       "      <th>1</th>\n",
       "      <td>50.0</td>\n",
       "      <td>1</td>\n",
       "      <td>1.0</td>\n",
       "      <td>2.0</td>\n",
       "      <td>0.0</td>\n",
       "      <td>0</td>\n",
       "      <td>140.0</td>\n",
       "      <td>90.0</td>\n",
       "      <td>3.90</td>\n",
       "      <td>132.0</td>\n",
       "      <td>...</td>\n",
       "      <td>0</td>\n",
       "      <td>0</td>\n",
       "      <td>0</td>\n",
       "      <td>1</td>\n",
       "      <td>0</td>\n",
       "      <td>0</td>\n",
       "      <td>1</td>\n",
       "      <td>0</td>\n",
       "      <td>1</td>\n",
       "      <td>0</td>\n",
       "    </tr>\n",
       "    <tr>\n",
       "      <th>4</th>\n",
       "      <td>76.0</td>\n",
       "      <td>0</td>\n",
       "      <td>3.0</td>\n",
       "      <td>6.0</td>\n",
       "      <td>6.0</td>\n",
       "      <td>0</td>\n",
       "      <td>110.0</td>\n",
       "      <td>70.0</td>\n",
       "      <td>4.10</td>\n",
       "      <td>136.0</td>\n",
       "      <td>...</td>\n",
       "      <td>1</td>\n",
       "      <td>0</td>\n",
       "      <td>0</td>\n",
       "      <td>1</td>\n",
       "      <td>0</td>\n",
       "      <td>0</td>\n",
       "      <td>1</td>\n",
       "      <td>0</td>\n",
       "      <td>1</td>\n",
       "      <td>0</td>\n",
       "    </tr>\n",
       "    <tr>\n",
       "      <th>5</th>\n",
       "      <td>54.0</td>\n",
       "      <td>1</td>\n",
       "      <td>0.0</td>\n",
       "      <td>6.0</td>\n",
       "      <td>7.0</td>\n",
       "      <td>0</td>\n",
       "      <td>120.0</td>\n",
       "      <td>80.0</td>\n",
       "      <td>5.30</td>\n",
       "      <td>139.0</td>\n",
       "      <td>...</td>\n",
       "      <td>1</td>\n",
       "      <td>0</td>\n",
       "      <td>1</td>\n",
       "      <td>0</td>\n",
       "      <td>1</td>\n",
       "      <td>0</td>\n",
       "      <td>0</td>\n",
       "      <td>0</td>\n",
       "      <td>1</td>\n",
       "      <td>0</td>\n",
       "    </tr>\n",
       "    <tr>\n",
       "      <th>7</th>\n",
       "      <td>63.0</td>\n",
       "      <td>1</td>\n",
       "      <td>0.0</td>\n",
       "      <td>6.0</td>\n",
       "      <td>7.0</td>\n",
       "      <td>0</td>\n",
       "      <td>110.0</td>\n",
       "      <td>70.0</td>\n",
       "      <td>4.40</td>\n",
       "      <td>141.0</td>\n",
       "      <td>...</td>\n",
       "      <td>1</td>\n",
       "      <td>0</td>\n",
       "      <td>1</td>\n",
       "      <td>0</td>\n",
       "      <td>1</td>\n",
       "      <td>0</td>\n",
       "      <td>0</td>\n",
       "      <td>0</td>\n",
       "      <td>1</td>\n",
       "      <td>0</td>\n",
       "    </tr>\n",
       "  </tbody>\n",
       "</table>\n",
       "<p>5 rows × 30 columns</p>\n",
       "</div>"
      ],
      "text/plain": [
       "    Age  Gender  myocardial  Exertional angina  Duration  Arrhythmia  \\\n",
       "0  75.0       0         0.0                2.0       5.0           0   \n",
       "1  50.0       1         1.0                2.0       0.0           0   \n",
       "4  76.0       0         3.0                6.0       6.0           0   \n",
       "5  54.0       1         0.0                6.0       7.0           0   \n",
       "7  63.0       1         0.0                6.0       7.0           0   \n",
       "\n",
       "   Systolic_intensive_care  Diastolic_intensive_care  Potassium  Sodium  ...  \\\n",
       "0                    140.0                      90.0       4.05   136.0  ...   \n",
       "1                    140.0                      90.0       3.90   132.0  ...   \n",
       "4                    110.0                      70.0       4.10   136.0  ...   \n",
       "5                    120.0                      80.0       5.30   139.0  ...   \n",
       "7                    110.0                      70.0       4.40   141.0  ...   \n",
       "\n",
       "   FCNo angina  Heart DiseaseExertional angina  Heart DiseaseNo angina  \\\n",
       "0            0                               1                       0   \n",
       "1            0                               0                       0   \n",
       "4            1                               0                       0   \n",
       "5            1                               0                       1   \n",
       "7            1                               0                       1   \n",
       "\n",
       "   Heart DiseaseUnstable angina  HypertensionNo  HypertensionStage 1  \\\n",
       "0                             0               0                    0   \n",
       "1                             1               0                    0   \n",
       "4                             1               0                    0   \n",
       "5                             0               1                    0   \n",
       "7                             0               1                    0   \n",
       "\n",
       "   HypertensionStage 2  HypertensionStage 3  Symptomatic hypertensionNo  \\\n",
       "0                    1                    0                           1   \n",
       "1                    1                    0                           1   \n",
       "4                    1                    0                           1   \n",
       "5                    0                    0                           1   \n",
       "7                    0                    0                           1   \n",
       "\n",
       "   Symptomatic hypertensionYes  \n",
       "0                            0  \n",
       "1                            0  \n",
       "4                            0  \n",
       "5                            0  \n",
       "7                            0  \n",
       "\n",
       "[5 rows x 30 columns]"
      ]
     },
     "execution_count": 74,
     "metadata": {},
     "output_type": "execute_result"
    }
   ],
   "source": [
    "import pandas as pd\n",
    "\n",
    "for col in columns:\n",
    "    one_hot=pd.get_dummies(c[col])\n",
    "    one_hot = one_hot.add_prefix(col)\n",
    "    c=c.drop(col,axis=1)\n",
    "    c=c.join(one_hot)\n",
    "\n",
    "c.head()"
   ]
  },
  {
   "cell_type": "code",
   "execution_count": 75,
   "metadata": {},
   "outputs": [
    {
     "data": {
      "text/plain": [
       "0.17740232312565998"
      ]
     },
     "execution_count": 75,
     "metadata": {},
     "output_type": "execute_result"
    }
   ],
   "source": [
    "168/947"
   ]
  },
  {
   "cell_type": "markdown",
   "metadata": {},
   "source": [
    "# Model building"
   ]
  },
  {
   "cell_type": "code",
   "execution_count": 76,
   "metadata": {},
   "outputs": [],
   "source": [
    "#y_train=c['Outcome']\n",
    "#x_train = c.drop('Outcome', axis=1)\n",
    "y=c['Outcome']\n",
    "x = c.drop('Outcome', axis=1)\n"
   ]
  },
  {
   "cell_type": "code",
   "execution_count": 77,
   "metadata": {},
   "outputs": [],
   "source": [
    "from sklearn.preprocessing import MinMaxScaler\n",
    "from sklearn.model_selection import train_test_split\n",
    "from sklearn import preprocessing\n",
    "\n",
    "x_train, x_test, y_train, y_test = train_test_split(\n",
    "   x, y, random_state = 0)"
   ]
  },
  {
   "cell_type": "markdown",
   "metadata": {},
   "source": [
    "### KNN Classification"
   ]
  },
  {
   "cell_type": "code",
   "execution_count": 78,
   "metadata": {},
   "outputs": [
    {
     "data": {
      "text/plain": [
       "GridSearchCV(cv=5, estimator=KNeighborsClassifier(), n_jobs=-1,\n",
       "             param_grid={'n_neighbors': [5, 10, 15, 20, 30, 40, 50]},\n",
       "             scoring='roc_auc')"
      ]
     },
     "execution_count": 78,
     "metadata": {},
     "output_type": "execute_result"
    }
   ],
   "source": [
    "from sklearn.metrics import confusion_matrix, plot_confusion_matrix\n",
    "from sklearn.metrics import accuracy_score \n",
    "from sklearn.neighbors import KNeighborsClassifier\n",
    "from sklearn.model_selection import GridSearchCV\n",
    "\n",
    "#best implementation\n",
    "knn = KNeighborsClassifier()\n",
    "param_grid = {'n_neighbors': [5, 10, 15, 20, 30, 40, 50]}\n",
    "knn_grid = GridSearchCV(knn, param_grid, cv = 5, n_jobs = -1, scoring = 'roc_auc')\n",
    "knn_grid.fit(x_train, y_train) #imbalance X_"
   ]
  },
  {
   "cell_type": "code",
   "execution_count": 79,
   "metadata": {},
   "outputs": [
    {
     "data": {
      "text/plain": [
       "{'n_neighbors': 40}"
      ]
     },
     "execution_count": 79,
     "metadata": {},
     "output_type": "execute_result"
    }
   ],
   "source": [
    "knn_grid.best_params_"
   ]
  },
  {
   "cell_type": "code",
   "execution_count": 80,
   "metadata": {},
   "outputs": [
    {
     "data": {
      "text/plain": [
       "0.7268069892349185"
      ]
     },
     "execution_count": 80,
     "metadata": {},
     "output_type": "execute_result"
    }
   ],
   "source": [
    "knn_grid.best_score_"
   ]
  },
  {
   "cell_type": "code",
   "execution_count": 81,
   "metadata": {},
   "outputs": [
    {
     "ename": "NameError",
     "evalue": "name 'roc_auc_score' is not defined",
     "output_type": "error",
     "traceback": [
      "\u001b[0;31m---------------------------------------------------------------------------\u001b[0m",
      "\u001b[0;31mNameError\u001b[0m                                 Traceback (most recent call last)",
      "\u001b[0;32m<ipython-input-81-b2eff87fa617>\u001b[0m in \u001b[0;36m<module>\u001b[0;34m\u001b[0m\n\u001b[0;32m----> 1\u001b[0;31m \u001b[0mroc_auc_score\u001b[0m\u001b[0;34m(\u001b[0m\u001b[0my_train\u001b[0m\u001b[0;34m,\u001b[0m \u001b[0mknn_grid\u001b[0m\u001b[0;34m.\u001b[0m\u001b[0mpredict\u001b[0m\u001b[0;34m(\u001b[0m\u001b[0mx_train\u001b[0m\u001b[0;34m)\u001b[0m\u001b[0;34m)\u001b[0m\u001b[0;34m,\u001b[0m\u001b[0mroc_auc_score\u001b[0m\u001b[0;34m(\u001b[0m\u001b[0my_test\u001b[0m\u001b[0;34m,\u001b[0m \u001b[0mknn_grid\u001b[0m\u001b[0;34m.\u001b[0m\u001b[0mpredict\u001b[0m\u001b[0;34m(\u001b[0m\u001b[0mx_test\u001b[0m\u001b[0;34m)\u001b[0m\u001b[0;34m)\u001b[0m\u001b[0;34m\u001b[0m\u001b[0;34m\u001b[0m\u001b[0m\n\u001b[0m",
      "\u001b[0;31mNameError\u001b[0m: name 'roc_auc_score' is not defined"
     ]
    }
   ],
   "source": [
    "roc_auc_score(y_train, knn_grid.predict(x_train)),roc_auc_score(y_test, knn_grid.predict(x_test))"
   ]
  },
  {
   "cell_type": "code",
   "execution_count": null,
   "metadata": {},
   "outputs": [],
   "source": [
    "a=knn_grid.cv_results_\n",
    "y=a['mean_test_score']\n",
    "x=[5, 10, 15, 20, 30, 40, 50]\n",
    "plt.plot(x,y)"
   ]
  },
  {
   "cell_type": "markdown",
   "metadata": {},
   "source": [
    "### Logistic Regression"
   ]
  },
  {
   "cell_type": "code",
   "execution_count": null,
   "metadata": {},
   "outputs": [],
   "source": [
    "from sklearn.linear_model import LogisticRegression\n",
    "\n",
    "param_grid = {'C': [0.001, 0.01, 0.1, 1, 10, 100], 'max_iter': [50,100,500,1000]}\n",
    "\n",
    "logreg = LogisticRegression(random_state=0)\n",
    "logreg_grid = GridSearchCV(logreg, param_grid, cv = 5, n_jobs = -1, scoring = 'roc_auc')\n",
    "logreg_grid.fit(x_train, y_train)"
   ]
  },
  {
   "cell_type": "code",
   "execution_count": null,
   "metadata": {},
   "outputs": [],
   "source": [
    "logreg_grid.best_params_\n"
   ]
  },
  {
   "cell_type": "code",
   "execution_count": null,
   "metadata": {},
   "outputs": [],
   "source": [
    "logreg_score = logreg_grid.best_score_\n",
    "print(logreg_score)"
   ]
  },
  {
   "cell_type": "code",
   "execution_count": null,
   "metadata": {},
   "outputs": [],
   "source": [
    "roc_auc_score(y_train, logreg_grid.predict(x_train)),roc_auc_score(y_test, logreg_grid.predict(x_test))"
   ]
  },
  {
   "cell_type": "markdown",
   "metadata": {},
   "source": [
    "### Linear SVM\n"
   ]
  },
  {
   "cell_type": "code",
   "execution_count": null,
   "metadata": {},
   "outputs": [],
   "source": [
    "from sklearn.svm import LinearSVC\n",
    "from mlxtend.plotting import plot_decision_regions\n",
    "\n",
    "linsvc = LinearSVC(random_state=0)\n",
    "\n",
    "param_grid = {'C': [.001,.01,.1,1,10,100]}\n",
    "\n",
    "linsvc_grid = GridSearchCV(lsvc, cv = 5, param_grid=param_grid, n_jobs = -1, scoring = 'roc_auc')\n",
    "linsvc_grid.fit(x_train, y_train)\n",
    "\n",
    "linsvc_score = lsvc_grid.best_score_\n",
    "print(linsvc_score)"
   ]
  },
  {
   "cell_type": "code",
   "execution_count": null,
   "metadata": {},
   "outputs": [],
   "source": [
    "linsvc_grid.best_params_\n"
   ]
  },
  {
   "cell_type": "code",
   "execution_count": null,
   "metadata": {},
   "outputs": [],
   "source": [
    "roc_auc_score(y_train, linsvc_grid.predict(x_train)),roc_auc_score(y_test, linsvc_grid.predict(x_test))"
   ]
  },
  {
   "cell_type": "code",
   "execution_count": null,
   "metadata": {},
   "outputs": [],
   "source": [
    "6"
   ]
  },
  {
   "cell_type": "markdown",
   "metadata": {},
   "source": [
    "### Kernelized SVM - rbf"
   ]
  },
  {
   "cell_type": "code",
   "execution_count": null,
   "metadata": {},
   "outputs": [],
   "source": [
    "from sklearn.svm import SVC\n",
    "\n",
    "param_grid = {'C': [.001,.01,.1,1,10,100], 'gamma': [.001,.01,.1,1,10,100]}\n",
    "\n",
    "svcr = SVC(kernel='rbf', random_state=0)\n",
    "\n",
    "svcr_grid = GridSearchCV(svcr, cv=5, param_grid=param_grid, n_jobs=-1, scoring = 'roc_auc')\n",
    "\n",
    "svcr_grid.fit(x_train, y_train)\n",
    "\n",
    "rsvc_score = svcr_grid.best_score_\n",
    "print(rsvc_score)"
   ]
  },
  {
   "cell_type": "code",
   "execution_count": null,
   "metadata": {},
   "outputs": [],
   "source": [
    "svcr_grid.best_params_"
   ]
  },
  {
   "cell_type": "code",
   "execution_count": null,
   "metadata": {},
   "outputs": [],
   "source": [
    "roc_auc_score(y_train, svcr_grid.predict(x_train)),roc_auc_score(y_test, svcr_grid.predict(x_test))"
   ]
  },
  {
   "cell_type": "markdown",
   "metadata": {},
   "source": [
    "### Kernelized SVM - poly"
   ]
  },
  {
   "cell_type": "code",
   "execution_count": null,
   "metadata": {},
   "outputs": [],
   "source": [
    "from sklearn.svm import SVC\n",
    "\n",
    "param_grid = {'C': [.1,1,10,20,100]}\n",
    "\n",
    "svcp = SVC(kernel='poly', degree=3, random_state=0, coef0=1)\n",
    "\n",
    "svcp_grid = GridSearchCV(svcp, cv=5, param_grid=param_grid, n_jobs=-1, scoring = 'roc_auc')\n",
    "\n",
    "svcp_grid.fit(x_train, y_train)\n",
    "\n",
    "psvc_score = svcp_grid.best_score_\n",
    "print(psvc_score)"
   ]
  },
  {
   "cell_type": "code",
   "execution_count": null,
   "metadata": {},
   "outputs": [],
   "source": [
    "svcp_grid.best_params_\n"
   ]
  },
  {
   "cell_type": "code",
   "execution_count": null,
   "metadata": {},
   "outputs": [],
   "source": [
    "roc_auc_score(y_train, svcp_grid.predict(x_train)),roc_auc_score(y_test, svcp_grid.predict(x_test))"
   ]
  },
  {
   "cell_type": "markdown",
   "metadata": {},
   "source": [
    "### Kernelized SVM - linear"
   ]
  },
  {
   "cell_type": "code",
   "execution_count": null,
   "metadata": {},
   "outputs": [],
   "source": [
    "from sklearn.svm import SVC\n",
    "\n",
    "param_grid = {'C': [.1,1,10,100]}\n",
    "\n",
    "lsvc = SVC(kernel='linear', random_state=0)\n",
    "\n",
    "lsvc_grid = GridSearchCV(lsvc, cv=5, param_grid=param_grid, n_jobs=-1, scoring = 'roc_auc')\n",
    "\n",
    "lsvc_grid.fit(x_train, y_train)"
   ]
  },
  {
   "cell_type": "code",
   "execution_count": null,
   "metadata": {},
   "outputs": [],
   "source": [
    "lsvc_score = lsvc_grid.best_score_\n",
    "print(lsvc_score)"
   ]
  },
  {
   "cell_type": "code",
   "execution_count": null,
   "metadata": {},
   "outputs": [],
   "source": [
    "lsvc_grid.best_params_"
   ]
  },
  {
   "cell_type": "code",
   "execution_count": null,
   "metadata": {},
   "outputs": [],
   "source": [
    "roc_auc_score(y_train, lsvc_grid.predict(x_train)),roc_auc_score(y_test, lsvc_grid.predict(x_test))"
   ]
  },
  {
   "cell_type": "markdown",
   "metadata": {},
   "source": [
    "### Decision Tree"
   ]
  },
  {
   "cell_type": "code",
   "execution_count": null,
   "metadata": {},
   "outputs": [],
   "source": [
    "from sklearn.tree import DecisionTreeClassifier\n",
    "\n",
    "midlst= [.001,.005,.01,.05,.1] # these numbers are relatively arbitrary\n",
    "msllst= [30,60,120,240,480] # below a sample of size n=30 is not significant enough to justify its own leaf\n",
    "msslst= [30,60,120,240,480] \n",
    "mdlst= [20,30,40,50,60,70] # too large of a tree will lose its interpretability, and therefore its business value. May consider further trimming.\n",
    "\n",
    "param_grid = {'min_impurity_decrease': midlst, 'min_samples_leaf': msllst, 'min_samples_split': msslst, 'max_depth': mdlst}\n",
    "\n",
    "tree = DecisionTreeClassifier(random_state=0)\n",
    "tree_grid = GridSearchCV(tree, param_grid=param_grid, cv=5, n_jobs=-1, scoring='roc_auc')\n",
    "\n",
    "tree_grid.fit(x_train,y_train)"
   ]
  },
  {
   "cell_type": "code",
   "execution_count": null,
   "metadata": {},
   "outputs": [],
   "source": [
    "dtree_score = tree_grid.best_score_\n",
    "print(dtree_score)"
   ]
  },
  {
   "cell_type": "code",
   "execution_count": null,
   "metadata": {},
   "outputs": [],
   "source": [
    "tree = DecisionTreeClassifier(**tree_grid.best_params_,random_state=0)\n",
    "tree.fit(x_train,y_train)"
   ]
  },
  {
   "cell_type": "code",
   "execution_count": null,
   "metadata": {},
   "outputs": [],
   "source": [
    "tree.score(x_train,y_train)"
   ]
  },
  {
   "cell_type": "code",
   "execution_count": null,
   "metadata": {},
   "outputs": [],
   "source": [
    "roc_auc_score(y_train, tree_grid.predict(x_train)),roc_auc_score(y_test, tree_grid.predict(x_test))"
   ]
  },
  {
   "cell_type": "markdown",
   "metadata": {},
   "source": [
    "# Voting Classifier"
   ]
  },
  {
   "cell_type": "code",
   "execution_count": null,
   "metadata": {},
   "outputs": [],
   "source": [
    "from sklearn.ensemble import VotingClassifier\n",
    "\n",
    "knn_clf = KNeighborsClassifier(**knn_grid.best_params_)\n",
    "knn_clf.fit(x_train,y_train)\n",
    "\n",
    "log_clf = LogisticRegression(**logreg_grid.best_params_,random_state=0)\n",
    "log_clf.fit(x_train,y_train)\n",
    "\n",
    "linsvc = LinearSVC(**linsvc_grid.best_params_,random_state=0)\n",
    "linsvc.fit(x_train,y_train)\n",
    "\n",
    "svcr = SVC(**svcr_grid.best_params_,kernel='rbf', random_state=0)\n",
    "svcr.fit(x_train,y_train)\n",
    "\n",
    "svcp = SVC(**svcp_grid.best_params_,kernel='poly')\n",
    "svcp.fit(x_train,y_train)\n",
    "\n",
    "lsvc = SVC(**lsvc_grid.best_params_,kernel='linear', random_state=0)\n",
    "lsvc.fit(x_train,y_train)\n",
    "\n",
    "tree = DecisionTreeClassifier(**tree_grid.best_params_,random_state=0)\n",
    "tree.fit(x_train,y_train)"
   ]
  },
  {
   "cell_type": "code",
   "execution_count": null,
   "metadata": {},
   "outputs": [],
   "source": [
    "\n",
    "from sklearn.metrics import roc_auc_score\n",
    "\n",
    "\n",
    "voting_clf = VotingClassifier(estimators=[('linsvc',linsvc),('log_clf', log_clf), ('knn_clf', knn_clf),('lsvc',lsvc),('svcr', svcr),('svcp',svcp),\n",
    "                                          ('tree',tree)], voting='hard')\n",
    "voting_clf.fit(x_train, y_train)\n",
    "\n",
    "score1=[]\n",
    "from sklearn.metrics import accuracy_score\n",
    "for clf in (linsvc,log_clf, knn_clf, lsvc,svcr, svcp,tree,voting_clf):\n",
    "    clf.fit(x_train, y_train)\n",
    "    y_pred = clf.predict(x_test)\n",
    "    print(clf.__class__.__name__, roc_auc_score(y_test, y_pred))\n",
    "    score1.append(roc_auc_score(y_test, y_pred))\n"
   ]
  },
  {
   "cell_type": "markdown",
   "metadata": {},
   "source": [
    "# Bagging on LogisticRegression"
   ]
  },
  {
   "cell_type": "code",
   "execution_count": null,
   "metadata": {},
   "outputs": [],
   "source": [
    "from sklearn.ensemble import BaggingClassifier\n",
    "\n",
    "log_clf = LogisticRegression(**logreg_grid.best_params_,random_state=0)\n",
    "log_clf.fit(x_train,y_train)\n",
    "\n",
    "bag_clf = BaggingClassifier(log_clf, random_state=0,n_jobs=-1)\n",
    "\n",
    "param_grid = {'max_samples': [0.01,0.05,0.1,0.5,1],\n",
    "\n",
    "              'max_features': [0.01,0.05,0.1,0.5,1]}\n",
    "\n",
    "from sklearn.model_selection import GridSearchCV\n",
    "grid_search = GridSearchCV(bag_clf, param_grid, cv=5,scoring = 'roc_auc')\n",
    "\n",
    "grid_search.fit(x_train,y_train)\n",
    "\n",
    "grid_search.best_score_\n"
   ]
  },
  {
   "cell_type": "code",
   "execution_count": null,
   "metadata": {},
   "outputs": [],
   "source": [
    "roc_auc_score(y_train, grid_search.predict(x_train)),roc_auc_score(y_test, grid_search.predict(x_test))"
   ]
  },
  {
   "cell_type": "markdown",
   "metadata": {},
   "source": [
    "## Bagging classifier on SVC kenel='rbf\n",
    "\n",
    "\n"
   ]
  },
  {
   "cell_type": "code",
   "execution_count": null,
   "metadata": {},
   "outputs": [],
   "source": [
    "from sklearn.ensemble import BaggingClassifier\n",
    "\n",
    "svcr = SVC(**svcr_grid.best_params_,kernel='rbf', random_state=0)\n",
    "svcr.fit(x_train,y_train)\n",
    "\n",
    "bag_clf = BaggingClassifier(svcr, random_state=0,n_jobs=-1)\n",
    "\n",
    "param_grid = {'max_samples': [0.01,0.05,0.1,0.5,1],\n",
    "\n",
    "              'max_features': [0.01,0.05,0.1,0.5,1]}\n",
    "\n",
    "from sklearn.model_selection import GridSearchCV\n",
    "grid_search = GridSearchCV(bag_clf, param_grid, cv=5,scoring = 'roc_auc')\n",
    "\n",
    "grid_search.fit(x_train,y_train)\n",
    "\n",
    "grid_search.best_score_\n"
   ]
  },
  {
   "cell_type": "code",
   "execution_count": null,
   "metadata": {},
   "outputs": [],
   "source": [
    "roc_auc_score(y_train, grid_search.predict(x_train)),roc_auc_score(y_test, grid_search.predict(x_test))"
   ]
  },
  {
   "cell_type": "code",
   "execution_count": null,
   "metadata": {},
   "outputs": [],
   "source": [
    "9"
   ]
  },
  {
   "cell_type": "code",
   "execution_count": null,
   "metadata": {},
   "outputs": [],
   "source": []
  },
  {
   "cell_type": "code",
   "execution_count": null,
   "metadata": {},
   "outputs": [],
   "source": [
    "8"
   ]
  },
  {
   "cell_type": "code",
   "execution_count": null,
   "metadata": {},
   "outputs": [],
   "source": []
  },
  {
   "cell_type": "markdown",
   "metadata": {},
   "source": [
    "## Pasting  on LogisticRegression"
   ]
  },
  {
   "cell_type": "code",
   "execution_count": null,
   "metadata": {},
   "outputs": [],
   "source": [
    "from sklearn.ensemble import BaggingClassifier\n",
    "\n",
    "log_clf = LogisticRegression(**logreg_grid.best_params_,random_state=0)\n",
    "log_clf.fit(x_train,y_train)\n",
    "\n",
    "\n",
    "bag_clf = BaggingClassifier(log_clf, random_state=0,bootstrap=False, n_jobs=-1)\n",
    "\n",
    "\n",
    "param_grid = {'max_samples': [0.01,0.05,0.1,0.5,1],\n",
    "\n",
    "              'max_features': [0.01,0.05,0.1,0.5,1]}\n",
    "\n",
    "from sklearn.model_selection import GridSearchCV\n",
    "grid_search = GridSearchCV(bag_clf, param_grid, cv=5,scoring = 'roc_auc')\n",
    "\n",
    "grid_search.fit(x_train,y_train)\n",
    "grid_search.best_score_\n"
   ]
  },
  {
   "cell_type": "code",
   "execution_count": null,
   "metadata": {},
   "outputs": [],
   "source": [
    "\n",
    "roc_auc_score(y_train, grid_search.predict(x_train)),roc_auc_score(y_test, grid_search.predict(x_test))"
   ]
  },
  {
   "cell_type": "markdown",
   "metadata": {},
   "source": [
    "# Pasting on SVC kernel='rbf'"
   ]
  },
  {
   "cell_type": "code",
   "execution_count": null,
   "metadata": {},
   "outputs": [],
   "source": [
    "from sklearn.ensemble import BaggingClassifier\n",
    "\n",
    "svcr = SVC(**svcr_grid.best_params_,kernel='rbf', random_state=0)\n",
    "svcr.fit(x_train,y_train)\n",
    "\n",
    "\n",
    "bag_clf = BaggingClassifier(svcr, random_state=0,bootstrap=False, n_jobs=-1)\n",
    "\n",
    "\n",
    "param_grid = {'max_samples': [0.01,0.05,0.1,0.5,1],\n",
    "\n",
    "              'max_features': [0.01,0.05,0.1,0.5,1]}\n",
    "\n",
    "from sklearn.model_selection import GridSearchCV\n",
    "grid_search = GridSearchCV(bag_clf, param_grid, cv=5,scoring = 'roc_auc')\n",
    "\n",
    "grid_search.fit(x_train,y_train)\n",
    "grid_search.best_score_\n"
   ]
  },
  {
   "cell_type": "code",
   "execution_count": null,
   "metadata": {},
   "outputs": [],
   "source": [
    "roc_auc_score(y_train, grid_search.predict(x_train)),roc_auc_score(y_test, grid_search.predict(x_test))"
   ]
  },
  {
   "cell_type": "code",
   "execution_count": null,
   "metadata": {},
   "outputs": [],
   "source": [
    "8"
   ]
  },
  {
   "cell_type": "markdown",
   "metadata": {},
   "source": [
    "## Adaboast on Logistic Regression"
   ]
  },
  {
   "cell_type": "code",
   "execution_count": null,
   "metadata": {},
   "outputs": [],
   "source": [
    "from sklearn.ensemble import AdaBoostClassifier\n",
    "\n",
    "ada_clf = AdaBoostClassifier(LogisticRegression(**logreg_grid.best_params_,random_state=0), n_estimators=200, algorithm=\"SAMME\", learning_rate=0.5, random_state=0)\n",
    "ada_clf.fit(x_train, y_train)\n",
    "\n",
    "AdaboastlinearSVC=roc_auc_score(y_train, ada_clf.predict(x_train))\n",
    "roc_auc_score(y_train, ada_clf.predict(x_train)),roc_auc_score(y_test, ada_clf.predict(x_test))"
   ]
  },
  {
   "cell_type": "markdown",
   "metadata": {},
   "source": [
    "## Adaboast on SVC-kernel-'rbf'"
   ]
  },
  {
   "cell_type": "code",
   "execution_count": null,
   "metadata": {},
   "outputs": [],
   "source": [
    "from sklearn.ensemble import AdaBoostClassifier\n",
    "\n",
    "ada_clf = AdaBoostClassifier(SVC(**svcr_grid.best_params_,kernel='rbf', random_state=0), n_estimators=200, algorithm=\"SAMME\", learning_rate=0.5, random_state=0)\n",
    "ada_clf.fit(x_train, y_train)\n",
    "\n",
    "AdaboastlinearSVC=roc_auc_score(y_train, ada_clf.predict(x_train))\n",
    "roc_auc_score(y_train, ada_clf.predict(x_train)),roc_auc_score(y_test, ada_clf.predict(x_test))"
   ]
  },
  {
   "cell_type": "markdown",
   "metadata": {},
   "source": [
    "# Gradient Bosting"
   ]
  },
  {
   "cell_type": "code",
   "execution_count": null,
   "metadata": {},
   "outputs": [],
   "source": [
    "from sklearn.ensemble import GradientBoostingClassifier\n",
    "gbrt = GradientBoostingClassifier(random_state=0)\n",
    "gbrt.fit(x_train, y_train)\n",
    "\n",
    "Gradient_Bosting=roc_auc_score(y_train, gbrt.predict(x_train))\n",
    "roc_auc_score(y_train, gbrt.predict(x_train)),roc_auc_score(y_test, gbrt.predict(x_test))"
   ]
  },
  {
   "cell_type": "markdown",
   "metadata": {},
   "source": [
    "# Checking if deep learning performs better than Adaboosting"
   ]
  },
  {
   "cell_type": "code",
   "execution_count": null,
   "metadata": {},
   "outputs": [],
   "source": [
    "from keras.models import Sequential\n",
    "from keras.layers import Dense\n",
    "import numpy as np\n",
    "from sklearn.model_selection import GridSearchCV\n",
    "from keras.models import Sequential\n",
    "from keras.layers import Dense\n",
    "from keras.wrappers.scikit_learn import KerasClassifier\n",
    "seed = 10\n",
    "np.random.seed(10)"
   ]
  },
  {
   "cell_type": "code",
   "execution_count": null,
   "metadata": {},
   "outputs": [],
   "source": [
    "x_train.shape"
   ]
  },
  {
   "cell_type": "code",
   "execution_count": null,
   "metadata": {},
   "outputs": [],
   "source": [
    "# create model\n",
    "model = Sequential()\n",
    "model.add(Dense(2, input_dim=29, activation='relu'))\n",
    "model.add(Dense(14, activation='relu'))\n",
    "model.add(Dense(1, activation='sigmoid'))"
   ]
  },
  {
   "cell_type": "code",
   "execution_count": null,
   "metadata": {},
   "outputs": [],
   "source": [
    "model.compile(loss='binary_crossentropy', optimizer='adam', metrics=['accuracy'])"
   ]
  },
  {
   "cell_type": "code",
   "execution_count": null,
   "metadata": {},
   "outputs": [],
   "source": [
    "model.fit(x_train, y_train, epochs=150, batch_size=10)"
   ]
  },
  {
   "cell_type": "code",
   "execution_count": null,
   "metadata": {},
   "outputs": [],
   "source": [
    "# evaluate the model\n",
    "scores = model.evaluate(x_test, y_test)\n",
    "print(\"\\n%s: %.2f%%\" % (model.metrics_names[1], scores[1]*100))"
   ]
  },
  {
   "cell_type": "code",
   "execution_count": null,
   "metadata": {},
   "outputs": [],
   "source": [
    "def create_model():\n",
    "    #create model\n",
    "    model = Sequential()\n",
    "    model.add(Dense(2, input_dim=29, activation='relu'))\n",
    "    model.add(Dense(14, activation='relu'))\n",
    "    model.add(Dense(1, activation='sigmoid'))\n",
    "    #compile model\n",
    "    model.compile(loss='binary_crossentropy', optimizer='adam', metrics=['accuracy'])\n",
    "    return model"
   ]
  },
  {
   "cell_type": "code",
   "execution_count": null,
   "metadata": {},
   "outputs": [],
   "source": [
    "model = KerasClassifier(build_fn = create_model, verbose = 0)\n",
    "\n",
    "param_grid = {'batch_size':[10,20,30,40] , 'epochs':[10, 50, 100]}\n",
    "grid_search = GridSearchCV(estimator= model, param_grid = param_grid, cv = 5)"
   ]
  },
  {
   "cell_type": "code",
   "execution_count": null,
   "metadata": {},
   "outputs": [],
   "source": [
    "grid_search_result = grid_search.fit(x_train, y_train)"
   ]
  },
  {
   "cell_type": "code",
   "execution_count": null,
   "metadata": {},
   "outputs": [],
   "source": [
    "grid_search.score(x_train, y_train)"
   ]
  },
  {
   "cell_type": "code",
   "execution_count": null,
   "metadata": {},
   "outputs": [],
   "source": [
    "grid_search.score(x_test, y_test)"
   ]
  },
  {
   "cell_type": "code",
   "execution_count": null,
   "metadata": {},
   "outputs": [],
   "source": [
    "roc_auc_score(y_train, gbrt.predict(x_train)),roc_auc_score(y_test, gbrt.predict(x_test))"
   ]
  },
  {
   "cell_type": "markdown",
   "metadata": {},
   "source": [
    "## Out of all the models we implemented AdaBoostClassifier on LogisticRegression is the best"
   ]
  },
  {
   "cell_type": "code",
   "execution_count": null,
   "metadata": {},
   "outputs": [],
   "source": [
    "# from sklearn.ensemble import AdaBoostClassifier\n",
    "\n",
    "ada_clf = AdaBoostClassifier(LogisticRegression(**logreg_grid.best_params_,random_state=0), n_estimators=200, algorithm=\"SAMME\", learning_rate=0.5, random_state=0)\n",
    "ada_clf.fit(x_train, y_train)\n",
    "\n",
    "AdaboastlinearSVC=roc_auc_score(y_train, ada_clf.predict(x_train))\n",
    "roc_auc_score(y_train, ada_clf.predict(x_train)),roc_auc_score(y_test, ada_clf.predict(x_test))"
   ]
  },
  {
   "cell_type": "markdown",
   "metadata": {},
   "source": [
    "* It not only have relatively high ROC_AUC score but the Train and test scores are also consistent with one another"
   ]
  },
  {
   "cell_type": "markdown",
   "metadata": {},
   "source": [
    "### Now it's check if scaling the data gives us the better result or not\n"
   ]
  },
  {
   "cell_type": "code",
   "execution_count": null,
   "metadata": {},
   "outputs": [],
   "source": [
    "\n",
    "from sklearn.decomposition import PCA\n",
    "from sklearn.preprocessing import MinMaxScaler\n",
    "pca = PCA(n_components=0.95)\n",
    "scaler=MinMaxScaler()\n",
    "x_train_scale = scaler.fit_transform(x_train)\n",
    "x_test_scale = scaler.transform(x_test)"
   ]
  },
  {
   "cell_type": "code",
   "execution_count": null,
   "metadata": {},
   "outputs": [],
   "source": [
    "ada_clf = AdaBoostClassifier(LogisticRegression(**logreg_grid.best_params_,random_state=0), n_estimators=200, algorithm=\"SAMME\", learning_rate=0.5, random_state=0)\n",
    "ada_clf.fit(x_train_scale, y_train)\n",
    "\n",
    "AdaboastlinearSVC=roc_auc_score(y_train, ada_clf.predict(x_train_scale))\n",
    "roc_auc_score(y_train, ada_clf.predict(x_train_scale)),roc_auc_score(y_test, ada_clf.predict(x_test_scale))"
   ]
  },
  {
   "cell_type": "markdown",
   "metadata": {},
   "source": [
    "* Seems like we are better off without scalling the data"
   ]
  },
  {
   "cell_type": "code",
   "execution_count": null,
   "metadata": {},
   "outputs": [],
   "source": []
  },
  {
   "cell_type": "markdown",
   "metadata": {},
   "source": [
    "# Evaluation Data\n",
    "\n",
    "* X_Test data is preprocessed and used to predict y_pred\n"
   ]
  },
  {
   "cell_type": "code",
   "execution_count": null,
   "metadata": {},
   "outputs": [],
   "source": [
    "# Evaluation Data\n",
    "\n",
    "\n",
    "df=pd.read_csv('/Users/sandeepgautam/Desktop/test (2).csv')\n",
    "df=df.replace('?',np.nan)\n",
    "df.head()\n",
    "df['Output']=1000\n",
    "df.head()"
   ]
  },
  {
   "cell_type": "code",
   "execution_count": null,
   "metadata": {},
   "outputs": [],
   "source": [
    "df.isnull().sum()"
   ]
  },
  {
   "cell_type": "code",
   "execution_count": null,
   "metadata": {},
   "outputs": [],
   "source": [
    "df['Age']=pd.to_numeric(df['Age'])\n",
    "df['myocardial']=pd.to_numeric(df['myocardial'])\n",
    "df['Potassium']=pd.to_numeric(df['Potassium'])\n",
    "df['Sodium']=pd.to_numeric(df['Sodium'])\n",
    "df['AlAT']=pd.to_numeric(df['AlAT'])\n",
    "df['AsAT']=pd.to_numeric(df['AsAT'])\n",
    "df['WBC']=pd.to_numeric(df['WBC'])\n",
    "df['ESR']=pd.to_numeric(df['ESR'])\n",
    "df['Time']=pd.to_numeric(df['Time'])\n"
   ]
  },
  {
   "cell_type": "markdown",
   "metadata": {},
   "source": [
    "### Solving null value problem of Age column with the help of Gender   Columns \n"
   ]
  },
  {
   "cell_type": "code",
   "execution_count": null,
   "metadata": {},
   "outputs": [],
   "source": [
    "df.Age.replace(999,np.nan,inplace=True)\n",
    "df['Age']=df.groupby(\"Gender\")['Age'].transform(lambda x: x.fillna(x.median()))"
   ]
  },
  {
   "cell_type": "code",
   "execution_count": null,
   "metadata": {},
   "outputs": [],
   "source": [
    "df.shape"
   ]
  },
  {
   "cell_type": "code",
   "execution_count": null,
   "metadata": {},
   "outputs": [],
   "source": [
    "df.isna().sum()"
   ]
  },
  {
   "cell_type": "code",
   "execution_count": null,
   "metadata": {},
   "outputs": [],
   "source": [
    "df=df.drop('Heredity',axis=1)\n",
    "df=df.drop('Systolic_emergency',axis=1)\n",
    "df=df.drop('Diastolic_emergency',axis=1)"
   ]
  },
  {
   "cell_type": "code",
   "execution_count": null,
   "metadata": {},
   "outputs": [],
   "source": [
    "df.isnull().sum().sum()"
   ]
  },
  {
   "cell_type": "code",
   "execution_count": null,
   "metadata": {},
   "outputs": [],
   "source": [
    "df.isnull().sum()"
   ]
  },
  {
   "cell_type": "code",
   "execution_count": null,
   "metadata": {},
   "outputs": [],
   "source": [
    "df['myocardial']=pd.to_numeric(df['myocardial'])\n"
   ]
  },
  {
   "cell_type": "code",
   "execution_count": null,
   "metadata": {},
   "outputs": [],
   "source": [
    "df['Age']=pd.to_numeric(df['Age'])\n"
   ]
  },
  {
   "cell_type": "code",
   "execution_count": null,
   "metadata": {},
   "outputs": [],
   "source": [
    "df['Gender'].replace('Male',1,inplace=True)\n",
    "df['Gender'].replace('Female',0,inplace=True)\n",
    "df.head()"
   ]
  },
  {
   "cell_type": "code",
   "execution_count": null,
   "metadata": {},
   "outputs": [],
   "source": [
    "import seaborn as sn\n",
    "correlation=df.select_dtypes(include='number')\n",
    "corrMatrix=correlation.corr()\n",
    "sn.heatmap(corrMatrix, annot=True)\n",
    "plt.show()"
   ]
  },
  {
   "cell_type": "code",
   "execution_count": null,
   "metadata": {},
   "outputs": [],
   "source": [
    "# When Arrhythmia is yes, make it 1 or else o\n",
    "df['Arrhythmia']=np.where(df['Arrhythmia']=='Yes',1,0)"
   ]
  },
  {
   "cell_type": "code",
   "execution_count": null,
   "metadata": {},
   "outputs": [],
   "source": [
    "import seaborn as sns\n",
    "sns.set_theme(style=\"whitegrid\")"
   ]
  },
  {
   "cell_type": "code",
   "execution_count": null,
   "metadata": {},
   "outputs": [],
   "source": [
    "sns.boxplot(x=\"Arrhythmia\", y=\"Age\", data=df)"
   ]
  },
  {
   "cell_type": "code",
   "execution_count": null,
   "metadata": {},
   "outputs": [],
   "source": [
    "import seaborn as sn\n",
    "correlation=df.select_dtypes(include='number')\n",
    "corrMatrix=correlation.corr()\n",
    "sn.heatmap(corrMatrix, annot=True)\n",
    "plt.show()"
   ]
  },
  {
   "cell_type": "markdown",
   "metadata": {},
   "source": [
    "### Solving null value problem of ESR  column with the help of myocardial and Gender  Column\n"
   ]
  },
  {
   "cell_type": "code",
   "execution_count": null,
   "metadata": {},
   "outputs": [],
   "source": [
    "sns.boxplot(y=\"myocardial\", x=\"Arrhythmia\", data=df)"
   ]
  },
  {
   "cell_type": "code",
   "execution_count": null,
   "metadata": {},
   "outputs": [],
   "source": [
    "df[df.myocardial.isna()]"
   ]
  },
  {
   "cell_type": "code",
   "execution_count": null,
   "metadata": {},
   "outputs": [],
   "source": [
    "df.describe()\n",
    "df.shape"
   ]
  },
  {
   "cell_type": "markdown",
   "metadata": {},
   "source": [
    "### Creating New column temp which is temp age range columns just to see if there is some relationship between age and different group"
   ]
  },
  {
   "cell_type": "code",
   "execution_count": null,
   "metadata": {},
   "outputs": [],
   "source": [
    "a=[]\n",
    "for i in df['Age']:\n",
    "    if i<=40:\n",
    "        a.append('Young')\n",
    "    elif i>=60:\n",
    "        a.append('Old')\n",
    "    else:\n",
    "        a.append('Mid_age')\n",
    "df['temp']=a\n",
    "df.head()"
   ]
  },
  {
   "cell_type": "code",
   "execution_count": null,
   "metadata": {},
   "outputs": [],
   "source": [
    "sns.boxplot(y=\"myocardial\", x=\"temp\", data=df)"
   ]
  },
  {
   "cell_type": "code",
   "execution_count": null,
   "metadata": {},
   "outputs": [],
   "source": [
    "### Solving null value problem of Arrhythmia column with the help of Gender and myocardial Columns \n",
    "df.groupby('Arrhythmia').median()"
   ]
  },
  {
   "cell_type": "markdown",
   "metadata": {},
   "source": [
    "### Changing Exertional angina columns into ordinal data where Never=6 and One year ago=1(Other values are in between)"
   ]
  },
  {
   "cell_type": "code",
   "execution_count": null,
   "metadata": {},
   "outputs": [],
   "source": [
    "df['myocardial']=df.groupby(\"Arrhythmia\")['myocardial'].transform(lambda x: x.fillna(x.median()))"
   ]
  },
  {
   "cell_type": "code",
   "execution_count": null,
   "metadata": {},
   "outputs": [],
   "source": [
    "df['Exertional angina'].replace('During the last year',0,inplace=True)\n",
    "df['Exertional angina'].replace('One year ago',1,inplace=True)\n",
    "df['Exertional angina'].replace('Two years ago',2,inplace=True)\n",
    "df['Exertional angina'].replace('Three years ago',3,inplace=True)\n",
    "df['Exertional angina'].replace('Four to five years ago',4,inplace=True)\n",
    "df['Exertional angina'].replace('More than five years ago',5,inplace=True)\n",
    "df['Exertional angina'].replace('More than five years ago',5,inplace=True)\n",
    "df['Exertional angina'].replace('Never',6,inplace=True)\n",
    "\n",
    "\n"
   ]
  },
  {
   "cell_type": "code",
   "execution_count": null,
   "metadata": {},
   "outputs": [],
   "source": [
    "df.groupby(['myocardial']).mean()"
   ]
  },
  {
   "cell_type": "markdown",
   "metadata": {},
   "source": [
    "\n",
    "### Solving null value problem of myocardial column with the help of Arrhythmia   Columns \n"
   ]
  },
  {
   "cell_type": "code",
   "execution_count": null,
   "metadata": {},
   "outputs": [],
   "source": []
  },
  {
   "cell_type": "code",
   "execution_count": null,
   "metadata": {},
   "outputs": [],
   "source": [
    "df['Exertional angina']=df.groupby(['myocardial'])['Exertional angina'].transform(lambda x: x.fillna(x.median()))\n"
   ]
  },
  {
   "cell_type": "code",
   "execution_count": null,
   "metadata": {},
   "outputs": [],
   "source": [
    "df.isna().sum()"
   ]
  },
  {
   "cell_type": "code",
   "execution_count": null,
   "metadata": {},
   "outputs": [],
   "source": [
    "#df[df['Hypertension'].isna()]\n",
    "\n",
    "#sns.boxplot(y=\"temp\", x=\"Hypertension\", data=df)\n",
    "\n",
    "df['Hypertension']\n"
   ]
  },
  {
   "cell_type": "code",
   "execution_count": null,
   "metadata": {},
   "outputs": [],
   "source": [
    "df[df['Hypertension'].isna()]"
   ]
  },
  {
   "cell_type": "code",
   "execution_count": null,
   "metadata": {},
   "outputs": [],
   "source": [
    "df['Hypertension'].value_counts()"
   ]
  },
  {
   "cell_type": "code",
   "execution_count": null,
   "metadata": {},
   "outputs": [],
   "source": [
    "a=[]\n",
    "for i in df['Hypertension']:\n",
    "    if i=='Stage 2':\n",
    "        a.append(2)\n",
    "    elif i=='Stage 3':\n",
    "        a.append(3)\n",
    "    elif i=='Stage 1':\n",
    "        a.append(1)\n",
    "    else:\n",
    "        a.append(0)\n",
    "df['HYPER']=a\n",
    "df.head()"
   ]
  },
  {
   "cell_type": "code",
   "execution_count": null,
   "metadata": {},
   "outputs": [],
   "source": [
    "sns.boxplot(y=\"HYPER\", x=\"temp\", data=df)"
   ]
  },
  {
   "cell_type": "code",
   "execution_count": null,
   "metadata": {},
   "outputs": [],
   "source": [
    "df['HYPER']=df.groupby(['temp'])['HYPER'].transform(lambda x: x.fillna(x.median()))\n"
   ]
  },
  {
   "cell_type": "code",
   "execution_count": null,
   "metadata": {},
   "outputs": [],
   "source": [
    "df['Hypertension'].value_counts()"
   ]
  },
  {
   "cell_type": "code",
   "execution_count": null,
   "metadata": {},
   "outputs": [],
   "source": [
    "a=[]\n",
    "for i in df['HYPER']:\n",
    "    if i==2:\n",
    "        a.append('Stage 2')\n",
    "    elif i==3:\n",
    "        a.append('Stage 3')\n",
    "    elif i==1:\n",
    "        a.append('Stage 1')\n",
    "    else:\n",
    "        a.append('No')\n",
    "df['HYPER']=a\n"
   ]
  },
  {
   "cell_type": "code",
   "execution_count": null,
   "metadata": {},
   "outputs": [],
   "source": [
    "df['Hypertension']=df['HYPER']"
   ]
  },
  {
   "cell_type": "code",
   "execution_count": null,
   "metadata": {},
   "outputs": [],
   "source": [
    "df['Hypertension'].isna().sum()"
   ]
  },
  {
   "cell_type": "code",
   "execution_count": null,
   "metadata": {},
   "outputs": [],
   "source": [
    "#df.groupby('temp').agg(lambda x:x.value_counts().index[0])\n"
   ]
  },
  {
   "cell_type": "markdown",
   "metadata": {},
   "source": [
    "  ### SOlving null value problem of Symptomatic hypertension by simply replacing the most reppeted value"
   ]
  },
  {
   "cell_type": "code",
   "execution_count": null,
   "metadata": {},
   "outputs": [],
   "source": [
    "df['Symptomatic hypertension'].fillna('No',inplace=True)"
   ]
  },
  {
   "cell_type": "code",
   "execution_count": null,
   "metadata": {},
   "outputs": [],
   "source": [
    "df.isna().sum()"
   ]
  },
  {
   "cell_type": "code",
   "execution_count": null,
   "metadata": {},
   "outputs": [],
   "source": [
    "df['Duration'].replace('One year',0,inplace=True)\n",
    "df['Duration'].replace('Two years',1,inplace=True)\n",
    "df['Duration'].replace('Three years',2,inplace=True)\n",
    "df['Duration'].replace('Four years',3,inplace=True)\n",
    "df['Duration'].replace('Five years',4,inplace=True)\n",
    "df['Duration'].replace('Six to ten years',5,inplace=True)\n",
    "df['Duration'].replace('More than 10 years',6,inplace=True)\n",
    "df['Duration'].replace('No hypertension',7,inplace=True)\n",
    "\n",
    "df.Duration.value_counts()"
   ]
  },
  {
   "cell_type": "code",
   "execution_count": null,
   "metadata": {},
   "outputs": [],
   "source": [
    "sns.boxplot(y=\"Duration\", x=\"Hypertension\", data=df)"
   ]
  },
  {
   "cell_type": "markdown",
   "metadata": {},
   "source": [
    "### Solving null value problem of Duration column with the help of Hypertension  Columns \n"
   ]
  },
  {
   "cell_type": "code",
   "execution_count": null,
   "metadata": {},
   "outputs": [],
   "source": [
    "df['Duration']=df.groupby(['Hypertension'])['Duration'].transform(lambda x: x.fillna(x.median()))\n"
   ]
  },
  {
   "cell_type": "code",
   "execution_count": null,
   "metadata": {},
   "outputs": [],
   "source": [
    "df['Systolic_intensive_care']=pd.to_numeric(df['Systolic_intensive_care'])\n",
    "sns.boxplot(y=\"Systolic_intensive_care\", x=\"Hypertension\", data=df)"
   ]
  },
  {
   "cell_type": "markdown",
   "metadata": {},
   "source": [
    "### Solving null value problem of Systolic_intensive_care column with the help of Hypertension  Columns \n"
   ]
  },
  {
   "cell_type": "code",
   "execution_count": null,
   "metadata": {},
   "outputs": [],
   "source": [
    "df['Systolic_intensive_care']=df.groupby(['Hypertension'])['Systolic_intensive_care'].transform(lambda x: x.fillna(x.median()))\n"
   ]
  },
  {
   "cell_type": "markdown",
   "metadata": {},
   "source": [
    "### Solving null value problem of Diastolic_intensive_care column with the help of Hypertension  Columns \n"
   ]
  },
  {
   "cell_type": "code",
   "execution_count": null,
   "metadata": {},
   "outputs": [],
   "source": [
    "df['Diastolic_intensive_care']=df.groupby(['Hypertension'])['Diastolic_intensive_care'].transform(lambda x: x.fillna(x.median()))\n"
   ]
  },
  {
   "cell_type": "code",
   "execution_count": null,
   "metadata": {},
   "outputs": [],
   "source": [
    "df.isna().sum()"
   ]
  },
  {
   "cell_type": "code",
   "execution_count": null,
   "metadata": {},
   "outputs": [],
   "source": []
  },
  {
   "cell_type": "markdown",
   "metadata": {},
   "source": [
    "### Solving null value problem of Heart Disease column with the help of Hypertension  Columns \n"
   ]
  },
  {
   "cell_type": "code",
   "execution_count": null,
   "metadata": {},
   "outputs": [],
   "source": [
    "df['Heart Disease'] = df.groupby(['Hypertension'])['Heart Disease'].transform(lambda x: x.fillna(x.value_counts().index[0]))\n"
   ]
  },
  {
   "cell_type": "markdown",
   "metadata": {},
   "source": [
    "### Solving null value problem of FC column with the help of Heart Disease  Columns \n"
   ]
  },
  {
   "cell_type": "code",
   "execution_count": null,
   "metadata": {},
   "outputs": [],
   "source": [
    "df['FC'] = df.groupby(['Heart Disease'])['FC'].transform(lambda x: x.fillna(x.value_counts().index[0]))\n"
   ]
  },
  {
   "cell_type": "code",
   "execution_count": null,
   "metadata": {},
   "outputs": [],
   "source": [
    "sns.boxplot(y=\"Potassium\", x=\"FC\", data=df)\n"
   ]
  },
  {
   "cell_type": "markdown",
   "metadata": {},
   "source": [
    "### Solving null value problem of FC column with the help of Heart Disease  Columns \n"
   ]
  },
  {
   "cell_type": "code",
   "execution_count": null,
   "metadata": {},
   "outputs": [],
   "source": [
    "df['Potassium']=df.groupby(['FC'])['Potassium'].transform(lambda x: x.fillna(x.median()))\n"
   ]
  },
  {
   "cell_type": "code",
   "execution_count": null,
   "metadata": {},
   "outputs": [],
   "source": [
    "sns.boxplot(y=\"Sodium\", x=\"Hypertension\", data=df)\n"
   ]
  },
  {
   "cell_type": "code",
   "execution_count": null,
   "metadata": {},
   "outputs": [],
   "source": []
  },
  {
   "cell_type": "code",
   "execution_count": null,
   "metadata": {},
   "outputs": [],
   "source": []
  },
  {
   "cell_type": "code",
   "execution_count": null,
   "metadata": {},
   "outputs": [],
   "source": []
  },
  {
   "cell_type": "markdown",
   "metadata": {},
   "source": [
    "### Solving null value problem of Sodium  column with the help of Hypertension  Column\n"
   ]
  },
  {
   "cell_type": "code",
   "execution_count": null,
   "metadata": {},
   "outputs": [],
   "source": [
    "df['Sodium']=df.groupby(['Hypertension'])['Sodium'].transform(lambda x: x.fillna(x.median()))\n"
   ]
  },
  {
   "cell_type": "code",
   "execution_count": null,
   "metadata": {},
   "outputs": [],
   "source": [
    "sns.boxplot(y=\"AlAT\", x='Hypertension', data=df)\n"
   ]
  },
  {
   "cell_type": "code",
   "execution_count": null,
   "metadata": {},
   "outputs": [],
   "source": [
    "### Solving null value problem of AlAT  column with the help of Hypertension  Column\n"
   ]
  },
  {
   "cell_type": "code",
   "execution_count": null,
   "metadata": {},
   "outputs": [],
   "source": [
    "df['AlAT']=df.groupby(['Hypertension'])['AlAT'].transform(lambda x: x.fillna(x.median()))\n"
   ]
  },
  {
   "cell_type": "code",
   "execution_count": null,
   "metadata": {},
   "outputs": [],
   "source": [
    "sns.boxplot(y=\"AsAT\", x='FC', data=df)\n"
   ]
  },
  {
   "cell_type": "markdown",
   "metadata": {},
   "source": [
    "### Solving null value problem of AsAT  column with the help of FC  Column\n"
   ]
  },
  {
   "cell_type": "code",
   "execution_count": null,
   "metadata": {},
   "outputs": [],
   "source": [
    "df['AsAT']=df.groupby(['FC'])['AsAT'].transform(lambda x: x.fillna(x.median()))\n"
   ]
  },
  {
   "cell_type": "code",
   "execution_count": null,
   "metadata": {},
   "outputs": [],
   "source": [
    "sns.boxplot(y=\"WBC\", x='Exertional angina', data=df)\n"
   ]
  },
  {
   "cell_type": "markdown",
   "metadata": {},
   "source": [
    "### Solving null value problem of WBC  column with the help of Exertional angina  Column\n"
   ]
  },
  {
   "cell_type": "code",
   "execution_count": null,
   "metadata": {},
   "outputs": [],
   "source": [
    "df['WBC']=df.groupby(['Exertional angina'])['WBC'].transform(lambda x: x.fillna(x.median()))\n"
   ]
  },
  {
   "cell_type": "code",
   "execution_count": null,
   "metadata": {},
   "outputs": [],
   "source": [
    "sns.boxplot(y=\"ESR\", x='Gender', data=df)\n"
   ]
  },
  {
   "cell_type": "code",
   "execution_count": null,
   "metadata": {},
   "outputs": [],
   "source": [
    "sns.boxplot(y=\"ESR\", x='myocardial', data=df)\n"
   ]
  },
  {
   "cell_type": "markdown",
   "metadata": {},
   "source": [
    "### Solving null value problem of ESR  column with the help of myocardial and Gender  Column\n"
   ]
  },
  {
   "cell_type": "code",
   "execution_count": null,
   "metadata": {},
   "outputs": [],
   "source": [
    "df['ESR']=df.groupby(['myocardial','Gender'])['ESR'].transform(lambda x: x.fillna(x.median()))\n"
   ]
  },
  {
   "cell_type": "code",
   "execution_count": null,
   "metadata": {},
   "outputs": [],
   "source": [
    "sns.boxplot(y=\"Time\", x='FC', data=df)\n"
   ]
  },
  {
   "cell_type": "code",
   "execution_count": null,
   "metadata": {},
   "outputs": [],
   "source": [
    "sns.boxplot(y=\"Time\", x='Duration', data=df)\n"
   ]
  },
  {
   "cell_type": "markdown",
   "metadata": {},
   "source": [
    "### Solving null value problem of Time  column with the help of Duration Column\n"
   ]
  },
  {
   "cell_type": "code",
   "execution_count": null,
   "metadata": {},
   "outputs": [],
   "source": [
    "df['Time']=df.groupby(['Duration'])['Time'].transform(lambda x: x.fillna(x.median()))\n",
    "aa=df\n",
    "c=aa"
   ]
  },
  {
   "cell_type": "markdown",
   "metadata": {},
   "source": [
    "### Removing variables that we created for temporary purpose"
   ]
  },
  {
   "cell_type": "code",
   "execution_count": null,
   "metadata": {},
   "outputs": [],
   "source": [
    "c=c.drop(['Output','temp','HYPER'],axis=1)"
   ]
  },
  {
   "cell_type": "code",
   "execution_count": null,
   "metadata": {},
   "outputs": [],
   "source": [
    "columns= ['FC','Heart Disease','Hypertension','Symptomatic hypertension']\n",
    "\n",
    "for col in columns:\n",
    "    one_hot=pd.get_dummies(c[col])\n",
    "    one_hot = one_hot.add_prefix(col)\n",
    "    c=c.drop(col,axis=1)\n",
    "    c=c.join(one_hot)\n",
    "\n",
    "c.head()\n"
   ]
  },
  {
   "cell_type": "code",
   "execution_count": null,
   "metadata": {},
   "outputs": [],
   "source": [
    "x_test=c"
   ]
  },
  {
   "cell_type": "code",
   "execution_count": null,
   "metadata": {},
   "outputs": [],
   "source": [
    "x_test.shape"
   ]
  },
  {
   "cell_type": "code",
   "execution_count": null,
   "metadata": {},
   "outputs": [],
   "source": [
    "x_test.isna().sum()"
   ]
  },
  {
   "cell_type": "code",
   "execution_count": null,
   "metadata": {},
   "outputs": [],
   "source": [
    "ada_clf.predict(x_test)"
   ]
  },
  {
   "cell_type": "code",
   "execution_count": null,
   "metadata": {},
   "outputs": [],
   "source": [
    "pd.DataFrame(ada_clf.predict(x_test)).value_counts()"
   ]
  },
  {
   "cell_type": "code",
   "execution_count": null,
   "metadata": {},
   "outputs": [],
   "source": [
    "y_train.value_counts()"
   ]
  },
  {
   "cell_type": "code",
   "execution_count": null,
   "metadata": {},
   "outputs": [],
   "source": []
  },
  {
   "cell_type": "code",
   "execution_count": null,
   "metadata": {},
   "outputs": [],
   "source": []
  }
 ],
 "metadata": {
  "kernelspec": {
   "display_name": "Python 3",
   "language": "python",
   "name": "python3"
  },
  "language_info": {
   "codemirror_mode": {
    "name": "ipython",
    "version": 3
   },
   "file_extension": ".py",
   "mimetype": "text/x-python",
   "name": "python",
   "nbconvert_exporter": "python",
   "pygments_lexer": "ipython3",
   "version": "3.8.5"
  }
 },
 "nbformat": 4,
 "nbformat_minor": 4
}
